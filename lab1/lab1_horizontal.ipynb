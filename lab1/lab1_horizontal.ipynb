{
 "cells": [
  {
   "cell_type": "code",
   "execution_count": 1,
   "metadata": {},
   "outputs": [],
   "source": [
    "import numpy as np\n",
    "import matplotlib.pyplot as plt\n",
    "from PIL import Image\n",
    "from datetime import timedelta\n",
    "from timeit import default_timer as timer"
   ]
  },
  {
   "cell_type": "code",
   "execution_count": 2,
   "metadata": {},
   "outputs": [],
   "source": [
    "img_l = np.asanyarray(Image.open(\"IMG_20200225_135850.jpg\").resize((300,400)).convert(\"L\")).astype(np.int)\n",
    "img_r = np.asanyarray(Image.open(\"IMG_20200225_135852.jpg\").resize((300,400)).convert(\"L\")).astype(np.int)"
   ]
  },
  {
   "cell_type": "code",
   "execution_count": 7,
   "metadata": {},
   "outputs": [],
   "source": [
    "img_l = img_l[50:,:]\n",
    "img_r = img_r[50:,:]"
   ]
  },
  {
   "cell_type": "code",
   "execution_count": 3,
   "metadata": {},
   "outputs": [],
   "source": [
    "img_l = np.asanyarray(Image.open(\"im2.png\").convert(\"L\")).astype(np.int)\n",
    "img_r = np.asanyarray(Image.open(\"im6.png\").convert(\"L\")).astype(np.int)"
   ]
  },
  {
   "cell_type": "code",
   "execution_count": 8,
   "metadata": {},
   "outputs": [
    {
     "name": "stdout",
     "output_type": "stream",
     "text": [
      "0 1 2 3 4 5 6 7 8 9 10 11 12 13 14 15 16 17 18 19 20 21 22 23 24 25 26 27 28 29 30 31 32 33 34 35 36 37 38 39 40 41 42 43 44 45 46 47 48 49 50 51 52 53 54 55 56 57 58 59 60 61 62 63 64 65 66 67 68 69 70 71 72 73 74 75 76 77 78 79 80 81 82 83 84 85 86 87 88 89 90 91 92 93 94 95 96 97 98 99 100 101 102 103 104 105 106 107 108 109 110 111 112 113 114 115 116 117 118 119 120 121 122 123 124 125 126 127 128 129 130 131 132 133 134 135 136 137 138 139 140 141 142 143 144 145 146 147 148 149 150 151 152 153 154 155 156 157 158 159 160 161 162 163 164 165 166 167 168 169 170 171 172 173 174 175 176 177 178 179 180 181 182 183 184 185 186 187 188 189 190 191 192 193 194 195 196 197 198 199 200 201 202 203 204 205 206 207 208 209 210 211 212 213 214 215 216 217 218 219 220 221 222 223 224 225 226 227 228 229 230 231 232 233 234 235 236 237 238 239 240 241 242 243 244 245 246 247 248 249 250 251 252 253 254 255 256 257 258 259 260 261 262 263 264 265 266 267 268 269 270 271 272 273 274 275 276 277 278 279 280 281 282 283 284 285 286 287 288 289 290 291 292 293 294 295 296 297 298 299 300 301 302 303 304 305 306 307 308 309 310 311 312 313 314 315 316 317 318 319 320 321 322 323 324 325 326 327 328 329 330 331 332 333 334 335 336 337 338 339 340 341 342 343 344 345 346 347 348 349 \n",
      "\n",
      "\n",
      "Time per image 0:00:04.991165\n"
     ]
    }
   ],
   "source": [
    "start = timer()\n",
    "\n",
    "k_max=65\n",
    "\n",
    "alpha=40\n",
    "\n",
    "height = img_r.shape[0]\n",
    "length = img_r.shape[1]\n",
    "\n",
    "#g = np.zeros(, dtype=np.int)\n",
    "#for k1 in range(kg_max*kv_max):\n",
    "#    for k2 in range(kg_max*kv_max):\n",
    "#        g[k1,k2] = \n",
    "g = np.array([[alpha*np.abs(i-j) for j in range(k_max)] for i in range(k_max)], dtype=np.int)\n",
    "\n",
    "\n",
    "img_shift = np.ones(img_l.shape)\n",
    "\n",
    "f = 1000*np.ones((height, length, k_max)).astype(np.int)\n",
    "for k in range(1, k_max):\n",
    "    f[:, :length-k, k] = np.abs(img_r[:,:length-k] - img_l[:,k:])\n",
    "\n",
    "for i in range(img_shift.shape[0]):\n",
    "    line_l = img_r[i]\n",
    "    line_r = img_l[i]\n",
    "    \n",
    "    F = f[i]\n",
    "    pass_to_prev = np.zeros(F.shape).astype(np.int)\n",
    "    for p in range(1, line_l.shape[0]):\n",
    "        ta = F[p-1, :] + g\n",
    "        ind = np.argmin(ta, axis=1)\n",
    "        F[p, :] += np.min(ta, axis=1)\n",
    "        pass_to_prev[p, :] = ind\n",
    "    \n",
    "    line_shift = np.ones(line_l.shape[0]).astype(np.int)\n",
    "    line_shift[-1] = np.argmin(F[-1,:])\n",
    "    for p in reversed(range(line_l.shape[0]-1)):\n",
    "        line_shift[p] = pass_to_prev[p+1, line_shift[p+1]]\n",
    "    \n",
    "    img_shift[i] = line_shift\n",
    "    print(i, end=\" \")\n",
    "img_shift = 254*img_shift/np.max(img_shift)\n",
    "\n",
    "end = timer()\n",
    "print('\\n\\n\\nTime per image',timedelta(seconds=end-start))"
   ]
  },
  {
   "cell_type": "code",
   "execution_count": 9,
   "metadata": {},
   "outputs": [
    {
     "data": {
      "image/png": "[encoded data removed]",
      "text/plain": [
       "<PIL.Image.Image image mode=L size=800x600 at 0x7F45356540F0>"
      ]
     },
     "execution_count": 9,
     "metadata": {},
     "output_type": "execute_result"
    }
   ],
   "source": [
    "Image.fromarray(img_shift.astype(np.uint8)).resize((800,600))"
   ]
  },
  {
   "cell_type": "code",
   "execution_count": 10,
   "metadata": {},
   "outputs": [],
   "source": [
    "Image.fromarray(img_shift.astype(np.uint8)).resize((800,600)).save(\"1.png\")"
   ]
  },
  {
   "cell_type": "code",
   "execution_count": null,
   "metadata": {},
   "outputs": [],
   "source": []
  }
 ],
 "metadata": {
  "kernelspec": {
   "display_name": "Python 3",
   "language": "python",
   "name": "python3"
  },
  "language_info": {
   "codemirror_mode": {
    "name": "ipython",
    "version": 3
   },
   "file_extension": ".py",
   "mimetype": "text/x-python",
   "name": "python",
   "nbconvert_exporter": "python",
   "pygments_lexer": "ipython3",
   "version": "3.6.9"
  }
 },
 "nbformat": 4,
 "nbformat_minor": 2
}

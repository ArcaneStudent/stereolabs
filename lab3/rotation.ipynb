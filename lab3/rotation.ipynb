{
 "cells": [
  {
   "cell_type": "code",
   "execution_count": 1,
   "metadata": {},
   "outputs": [],
   "source": [
    "from sympy import *"
   ]
  },
  {
   "cell_type": "markdown",
   "metadata": {},
   "source": [
    "# Доказать (или опровергнуть), что для известного трёхмерного вектора v единичной длины матрица является матрицей поворота."
   ]
  },
  {
   "cell_type": "markdown",
   "metadata": {},
   "source": [
    "$R = \\begin{bmatrix}\n",
    "\\vec{k}\\times(\\vec{k}\\times\\vec{v}) & \\vec{k}\\times\\vec{v} &  \\vec{k}\n",
    "\\end{bmatrix}^T$"
   ]
  },
  {
   "cell_type": "markdown",
   "metadata": {},
   "source": [
    "$|\\vec{v}|=1$"
   ]
  },
  {
   "cell_type": "markdown",
   "metadata": {},
   "source": [
    "$R = \\begin{bmatrix}\n",
    " & \\vec{k}\\times(\\vec{k}\\times\\vec{v}) & \\\\\n",
    " & \\vec{k}\\times\\vec{v} & \\\\\n",
    "0 & 0 & 1\n",
    "\\end{bmatrix}$"
   ]
  },
  {
   "cell_type": "code",
   "execution_count": 2,
   "metadata": {},
   "outputs": [],
   "source": [
    "vx, vy,vz = symbols('v_x v_y v_z')\n",
    "v = Matrix([vx, vy, vz])\n",
    "k = Matrix([0, 0, 1])"
   ]
  },
  {
   "cell_type": "code",
   "execution_count": 3,
   "metadata": {},
   "outputs": [
    {
     "data": {
      "text/latex": [
       "$\\displaystyle \\left[\\begin{matrix}0 & 0 & 1\\end{matrix}\\right]$"
      ],
      "text/plain": [
       "Matrix([[0, 0, 1]])"
      ]
     },
     "execution_count": 3,
     "metadata": {},
     "output_type": "execute_result"
    }
   ],
   "source": [
    "k.T"
   ]
  },
  {
   "cell_type": "code",
   "execution_count": 4,
   "metadata": {},
   "outputs": [
    {
     "data": {
      "text/latex": [
       "$\\displaystyle \\left[\\begin{matrix}v_{x} & v_{y} & v_{z}\\end{matrix}\\right]$"
      ],
      "text/plain": [
       "Matrix([[v_x, v_y, v_z]])"
      ]
     },
     "execution_count": 4,
     "metadata": {},
     "output_type": "execute_result"
    }
   ],
   "source": [
    "v.T"
   ]
  },
  {
   "cell_type": "markdown",
   "metadata": {},
   "source": [
    "## Відновлення матриці по стрічкам"
   ]
  },
  {
   "cell_type": "markdown",
   "metadata": {},
   "source": [
    "$R = \\begin{bmatrix}\n",
    " & \\vec{k}\\times(\\vec{k}\\times\\vec{v}) & \\\\\n",
    " & \\vec{k}\\times\\vec{v} & \\\\\n",
    "0 & 0 & 1\n",
    "\\end{bmatrix}$"
   ]
  },
  {
   "cell_type": "code",
   "execution_count": 5,
   "metadata": {},
   "outputs": [
    {
     "data": {
      "text/latex": [
       "$\\displaystyle \\left[\\begin{matrix}- v_{y} & v_{x} & 0\\end{matrix}\\right]$"
      ],
      "text/plain": [
       "Matrix([[-v_y, v_x, 0]])"
      ]
     },
     "execution_count": 5,
     "metadata": {},
     "output_type": "execute_result"
    }
   ],
   "source": [
    "k.cross(v).T"
   ]
  },
  {
   "cell_type": "markdown",
   "metadata": {},
   "source": [
    "$R = \\begin{bmatrix}\n",
    "- & \\vec{k}\\times(\\vec{k}\\times\\vec{v}) & -\\\\\n",
    "-v_y & v_x & 0\\\\\n",
    "0 & 0 & 1\n",
    "\\end{bmatrix}$"
   ]
  },
  {
   "cell_type": "code",
   "execution_count": 6,
   "metadata": {},
   "outputs": [
    {
     "data": {
      "text/latex": [
       "$\\displaystyle \\left[\\begin{matrix}- v_{x} & - v_{y} & 0\\end{matrix}\\right]$"
      ],
      "text/plain": [
       "Matrix([[-v_x, -v_y, 0]])"
      ]
     },
     "execution_count": 6,
     "metadata": {},
     "output_type": "execute_result"
    }
   ],
   "source": [
    "k.cross( k.cross(v) ).T"
   ]
  },
  {
   "cell_type": "markdown",
   "metadata": {},
   "source": [
    "$R = \\begin{bmatrix}\n",
    "-v_x & -v_y & 0\\\\\n",
    "-v_y & v_x & 0\\\\\n",
    "0 & 0 & 1\n",
    "\\end{bmatrix}$"
   ]
  },
  {
   "cell_type": "code",
   "execution_count": 7,
   "metadata": {},
   "outputs": [
    {
     "data": {
      "text/latex": [
       "$\\displaystyle \\left[\\begin{matrix}- v_{x} & - v_{y} & 0\\\\- v_{y} & v_{x} & 0\\\\0 & 0 & 1\\end{matrix}\\right]$"
      ],
      "text/plain": [
       "Matrix([\n",
       "[-v_x, -v_y, 0],\n",
       "[-v_y,  v_x, 0],\n",
       "[   0,    0, 1]])"
      ]
     },
     "execution_count": 7,
     "metadata": {},
     "output_type": "execute_result"
    }
   ],
   "source": [
    "R = Matrix([[-vx, -vy, 0], [-vy, vx, 0], [0, 0, 1]])\n",
    "R"
   ]
  },
  {
   "cell_type": "code",
   "execution_count": 8,
   "metadata": {},
   "outputs": [
    {
     "data": {
      "text/latex": [
       "$\\displaystyle - v_{x}^{2} - v_{y}^{2}$"
      ],
      "text/plain": [
       "-v_x**2 - v_y**2"
      ]
     },
     "execution_count": 8,
     "metadata": {},
     "output_type": "execute_result"
    }
   ],
   "source": [
    "R.det()"
   ]
  },
  {
   "cell_type": "markdown",
   "metadata": {},
   "source": [
    "$det(R) \\neq 1$, оскільки за умовою лише $v_x^2 + v_y^2 + v_z^2=1$ (ще $det(R) < 0$)"
   ]
  },
  {
   "cell_type": "code",
   "execution_count": 9,
   "metadata": {},
   "outputs": [
    {
     "data": {
      "text/latex": [
       "$\\displaystyle \\left[\\begin{matrix}v_{x} - \\frac{v_{x}}{v_{x}^{2} + v_{y}^{2}} & v_{y} - \\frac{v_{y}}{v_{x}^{2} + v_{y}^{2}} & 0\\\\v_{y} + \\frac{v_{y}}{- v_{x}^{2} - v_{y}^{2}} & - v_{x} + \\frac{v_{x}}{v_{x}^{2} + v_{y}^{2}} & 0\\\\0 & 0 & 0\\end{matrix}\\right]$"
      ],
      "text/plain": [
       "Matrix([\n",
       "[ v_x - v_x/(v_x**2 + v_y**2),  v_y - v_y/(v_x**2 + v_y**2), 0],\n",
       "[v_y + v_y/(-v_x**2 - v_y**2), -v_x + v_x/(v_x**2 + v_y**2), 0],\n",
       "[                           0,                            0, 0]])"
      ]
     },
     "execution_count": 9,
     "metadata": {},
     "output_type": "execute_result"
    }
   ],
   "source": [
    "R.inv() - R.T"
   ]
  },
  {
   "cell_type": "markdown",
   "metadata": {},
   "source": [
    "## Офіційна відповідь: матриця $R$ не є матрицею повороту (ябо є лише у випадку коли один з стовпчиків домножити на $-1$, та при умові що $v_z = 0$)."
   ]
  },
  {
   "cell_type": "markdown",
   "metadata": {},
   "source": [
    "# Вывести матрицу поворота"
   ]
  },
  {
   "cell_type": "markdown",
   "metadata": {},
   "source": [
    "$\\begin{cases} R\\vec{v} = \\vec{i} \\\\ R^T=R^{-1} \\\\ det(R) = 1 \\end{cases}$"
   ]
  },
  {
   "cell_type": "markdown",
   "metadata": {},
   "source": [
    "Перша матриця: поворот навколо осі $Z$"
   ]
  },
  {
   "cell_type": "code",
   "execution_count": 10,
   "metadata": {},
   "outputs": [
    {
     "data": {
      "text/latex": [
       "$\\displaystyle \\left[\\begin{matrix}\\frac{v_{x}}{\\sqrt{v_{x}^{2} + v_{y}^{2}}} & \\frac{v_{y}}{\\sqrt{v_{x}^{2} + v_{y}^{2}}} & 0\\\\- \\frac{v_{y}}{\\sqrt{v_{x}^{2} + v_{y}^{2}}} & \\frac{v_{x}}{\\sqrt{v_{x}^{2} + v_{y}^{2}}} & 0\\\\0 & 0 & 1\\end{matrix}\\right]$"
      ],
      "text/plain": [
       "Matrix([\n",
       "[ v_x/sqrt(v_x**2 + v_y**2), v_y/sqrt(v_x**2 + v_y**2), 0],\n",
       "[-v_y/sqrt(v_x**2 + v_y**2), v_x/sqrt(v_x**2 + v_y**2), 0],\n",
       "[                         0,                         0, 1]])"
      ]
     },
     "execution_count": 10,
     "metadata": {},
     "output_type": "execute_result"
    }
   ],
   "source": [
    "cos_fi = vx/sqrt(vx**2+vy**2)\n",
    "sin_fi = vy/sqrt(vx**2+vy**2)\n",
    "\n",
    "R = Matrix([[cos_fi, sin_fi, 0],\n",
    "            [-sin_fi, cos_fi, 0],\n",
    "            [0, 0, 1]])\n",
    "R"
   ]
  },
  {
   "cell_type": "markdown",
   "metadata": {},
   "source": [
    "Перевірка того, чи це дійсно матриця повороту"
   ]
  },
  {
   "cell_type": "code",
   "execution_count": 11,
   "metadata": {},
   "outputs": [
    {
     "data": {
      "text/latex": [
       "$\\displaystyle 1$"
      ],
      "text/plain": [
       "1"
      ]
     },
     "execution_count": 11,
     "metadata": {},
     "output_type": "execute_result"
    }
   ],
   "source": [
    "R.det()"
   ]
  },
  {
   "cell_type": "code",
   "execution_count": 12,
   "metadata": {},
   "outputs": [
    {
     "data": {
      "text/latex": [
       "$\\displaystyle \\left[\\begin{matrix}0 & 0 & 0\\\\0 & 0 & 0\\\\0 & 0 & 0\\end{matrix}\\right]$"
      ],
      "text/plain": [
       "Matrix([\n",
       "[0, 0, 0],\n",
       "[0, 0, 0],\n",
       "[0, 0, 0]])"
      ]
     },
     "execution_count": 12,
     "metadata": {},
     "output_type": "execute_result"
    }
   ],
   "source": [
    "R.T - R.inv()"
   ]
  },
  {
   "cell_type": "markdown",
   "metadata": {},
   "source": [
    "і координата $v_y$ зануляється"
   ]
  },
  {
   "cell_type": "code",
   "execution_count": 13,
   "metadata": {},
   "outputs": [
    {
     "data": {
      "text/latex": [
       "$\\displaystyle \\left[\\begin{matrix}\\sqrt{v_{x}^{2} + v_{y}^{2}}\\\\0\\\\v_{z}\\end{matrix}\\right]$"
      ],
      "text/plain": [
       "Matrix([\n",
       "[sqrt(v_x**2 + v_y**2)],\n",
       "[                    0],\n",
       "[                  v_z]])"
      ]
     },
     "execution_count": 13,
     "metadata": {},
     "output_type": "execute_result"
    }
   ],
   "source": [
    "v2 = simplify(R*v)\n",
    "v2"
   ]
  },
  {
   "cell_type": "markdown",
   "metadata": {},
   "source": [
    "Друга матриця: поворот навколо осі $Y$"
   ]
  },
  {
   "cell_type": "code",
   "execution_count": 14,
   "metadata": {},
   "outputs": [
    {
     "data": {
      "text/latex": [
       "$\\displaystyle \\left[\\begin{matrix}\\sqrt{1 - v_{z}^{2}} & 0 & v_{z}\\\\0 & 1 & 0\\\\- v_{z} & 0 & \\sqrt{1 - v_{z}^{2}}\\end{matrix}\\right]$"
      ],
      "text/plain": [
       "Matrix([\n",
       "[sqrt(1 - v_z**2), 0,              v_z],\n",
       "[               0, 1,                0],\n",
       "[            -v_z, 0, sqrt(1 - v_z**2)]])"
      ]
     },
     "execution_count": 14,
     "metadata": {},
     "output_type": "execute_result"
    }
   ],
   "source": [
    "sin_fi = vz\n",
    "cos_fi = sqrt(1 - sin_fi**2)\n",
    "\n",
    "F = Matrix([[cos_fi, 0, sin_fi],\n",
    "            [0, 1, 0],\n",
    "            [-sin_fi, 0, cos_fi]])\n",
    "F"
   ]
  },
  {
   "cell_type": "code",
   "execution_count": 15,
   "metadata": {},
   "outputs": [
    {
     "data": {
      "text/latex": [
       "$\\displaystyle 1$"
      ],
      "text/plain": [
       "1"
      ]
     },
     "execution_count": 15,
     "metadata": {},
     "output_type": "execute_result"
    }
   ],
   "source": [
    "F.det()"
   ]
  },
  {
   "cell_type": "code",
   "execution_count": 16,
   "metadata": {},
   "outputs": [
    {
     "data": {
      "text/latex": [
       "$\\displaystyle \\left[\\begin{matrix}0 & 0 & 0\\\\0 & 0 & 0\\\\0 & 0 & 0\\end{matrix}\\right]$"
      ],
      "text/plain": [
       "Matrix([\n",
       "[0, 0, 0],\n",
       "[0, 0, 0],\n",
       "[0, 0, 0]])"
      ]
     },
     "execution_count": 16,
     "metadata": {},
     "output_type": "execute_result"
    }
   ],
   "source": [
    "F.inv() - F.T"
   ]
  },
  {
   "cell_type": "markdown",
   "metadata": {},
   "source": [
    "і координата $v_z$ зануляється"
   ]
  },
  {
   "cell_type": "code",
   "execution_count": 17,
   "metadata": {},
   "outputs": [
    {
     "data": {
      "text/latex": [
       "$\\displaystyle \\left[\\begin{matrix}1\\\\0\\\\0\\end{matrix}\\right]$"
      ],
      "text/plain": [
       "Matrix([\n",
       "[1],\n",
       "[0],\n",
       "[0]])"
      ]
     },
     "execution_count": 17,
     "metadata": {},
     "output_type": "execute_result"
    }
   ],
   "source": [
    "(F*v2).subs(vx**2+vy**2, 1- vz**2)"
   ]
  },
  {
   "cell_type": "markdown",
   "metadata": {},
   "source": [
    "## Комбінована матриця"
   ]
  },
  {
   "cell_type": "code",
   "execution_count": 18,
   "metadata": {},
   "outputs": [
    {
     "data": {
      "text/latex": [
       "$\\displaystyle \\left[\\begin{matrix}v_{x} & v_{y} & v_{z}\\\\- \\frac{v_{y}}{\\sqrt{1 - v_{z}^{2}}} & \\frac{v_{x}}{\\sqrt{1 - v_{z}^{2}}} & 0\\\\- \\frac{v_{x} v_{z}}{\\sqrt{1 - v_{z}^{2}}} & - \\frac{v_{y} v_{z}}{\\sqrt{1 - v_{z}^{2}}} & \\sqrt{1 - v_{z}^{2}}\\end{matrix}\\right]$"
      ],
      "text/plain": [
       "Matrix([\n",
       "[                      v_x,                       v_y,              v_z],\n",
       "[    -v_y/sqrt(1 - v_z**2),      v_x/sqrt(1 - v_z**2),                0],\n",
       "[-v_x*v_z/sqrt(1 - v_z**2), -v_y*v_z/sqrt(1 - v_z**2), sqrt(1 - v_z**2)]])"
      ]
     },
     "execution_count": 18,
     "metadata": {},
     "output_type": "execute_result"
    }
   ],
   "source": [
    "FinalR = (F*R).subs(vx**2 + vy**2, 1 - vz**2)\n",
    "FinalR"
   ]
  },
  {
   "cell_type": "markdown",
   "metadata": {},
   "source": [
    "Перевірка множенням на $\\vec{v}$"
   ]
  },
  {
   "cell_type": "code",
   "execution_count": 19,
   "metadata": {},
   "outputs": [
    {
     "data": {
      "text/latex": [
       "$\\displaystyle \\left[\\begin{matrix}v_{x}^{2} + v_{y}^{2} + v_{z}^{2}\\\\0\\\\\\frac{v_{z} \\left(- v_{x}^{2} - v_{y}^{2} - v_{z}^{2} + 1\\right)}{\\sqrt{1 - v_{z}^{2}}}\\end{matrix}\\right]$"
      ],
      "text/plain": [
       "Matrix([\n",
       "[                            v_x**2 + v_y**2 + v_z**2],\n",
       "[                                                   0],\n",
       "[v_z*(-v_x**2 - v_y**2 - v_z**2 + 1)/sqrt(1 - v_z**2)]])"
      ]
     },
     "execution_count": 19,
     "metadata": {},
     "output_type": "execute_result"
    }
   ],
   "source": [
    "simplify(FinalR*v)"
   ]
  },
  {
   "cell_type": "markdown",
   "metadata": {},
   "source": [
    "Спрощення виразу і підстановка $v_x^2 + v_y^2 + v_z^2 =1$"
   ]
  },
  {
   "cell_type": "code",
   "execution_count": 26,
   "metadata": {},
   "outputs": [
    {
     "data": {
      "text/latex": [
       "$\\displaystyle \\left[\\begin{matrix}1\\\\0\\\\0\\end{matrix}\\right]$"
      ],
      "text/plain": [
       "Matrix([\n",
       "[1],\n",
       "[0],\n",
       "[0]])"
      ]
     },
     "execution_count": 26,
     "metadata": {},
     "output_type": "execute_result"
    }
   ],
   "source": [
    "simplify(FinalR*v).subs(vx**2 + vy**2 + vz**2, 1)"
   ]
  },
  {
   "cell_type": "markdown",
   "metadata": {},
   "source": [
    "Поворот назад"
   ]
  },
  {
   "cell_type": "code",
   "execution_count": 27,
   "metadata": {},
   "outputs": [
    {
     "data": {
      "text/latex": [
       "$\\displaystyle \\left[\\begin{matrix}- \\frac{v_{x} v_{z}^{2} - v_{x}}{v_{x}^{2} + v_{y}^{2}}\\\\- \\frac{v_{y} v_{z}^{2} - v_{y}}{v_{x}^{2} + v_{y}^{2}}\\\\v_{z}\\end{matrix}\\right]$"
      ],
      "text/plain": [
       "Matrix([\n",
       "[-(v_x*v_z**2 - v_x)/(v_x**2 + v_y**2)],\n",
       "[-(v_y*v_z**2 - v_y)/(v_x**2 + v_y**2)],\n",
       "[                                  v_z]])"
      ]
     },
     "execution_count": 27,
     "metadata": {},
     "output_type": "execute_result"
    }
   ],
   "source": [
    "FinalR.inv()*Matrix([1,0,0])"
   ]
  },
  {
   "cell_type": "markdown",
   "metadata": {},
   "source": [
    "Спрощення виразу і підстановка $v_x^2 + v_y^2 = 1- v_z^2$"
   ]
  },
  {
   "cell_type": "code",
   "execution_count": 28,
   "metadata": {},
   "outputs": [
    {
     "data": {
      "text/latex": [
       "$\\displaystyle \\left[\\begin{matrix}v_{x}\\\\v_{y}\\\\v_{z}\\end{matrix}\\right]$"
      ],
      "text/plain": [
       "Matrix([\n",
       "[v_x],\n",
       "[v_y],\n",
       "[v_z]])"
      ]
     },
     "execution_count": 28,
     "metadata": {},
     "output_type": "execute_result"
    }
   ],
   "source": [
    "simplify(FinalR.inv()*Matrix([1,0,0])).subs(vx**2 + vy**2, 1 - vz**2)"
   ]
  },
  {
   "cell_type": "code",
   "execution_count": null,
   "metadata": {},
   "outputs": [],
   "source": []
  }
 ],
 "metadata": {
  "kernelspec": {
   "display_name": "Python 3",
   "language": "python",
   "name": "python3"
  },
  "language_info": {
   "codemirror_mode": {
    "name": "ipython",
    "version": 3
   },
   "file_extension": ".py",
   "mimetype": "text/x-python",
   "name": "python",
   "nbconvert_exporter": "python",
   "pygments_lexer": "ipython3",
   "version": "3.6.9"
  }
 },
 "nbformat": 4,
 "nbformat_minor": 2
}

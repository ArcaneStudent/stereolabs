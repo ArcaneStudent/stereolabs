{
 "cells": [
  {
   "cell_type": "code",
   "execution_count": 4,
   "metadata": {},
   "outputs": [],
   "source": [
    "from sympy import *"
   ]
  },
  {
   "cell_type": "code",
   "execution_count": 5,
   "metadata": {},
   "outputs": [],
   "source": [
    "a1, a2, a3, a4, a5, a6, a7, a8, a9 = symbols('a1 a2 a3 a4 a5 a6 a7 a8 a9')\n",
    "b1, b2, b3, b4, b5, b6, b7, b8, b9 = symbols('b1 b2 b3 b4 b5 b6 b7 b8 b9')"
   ]
  },
  {
   "cell_type": "code",
   "execution_count": 6,
   "metadata": {},
   "outputs": [
    {
     "data": {
      "text/latex": [
       "$\\displaystyle a_{1} + a_{2}$"
      ],
      "text/plain": [
       "a1 + a2"
      ]
     },
     "execution_count": 6,
     "metadata": {},
     "output_type": "execute_result"
    }
   ],
   "source": [
    "a1+a2"
   ]
  },
  {
   "cell_type": "code",
   "execution_count": 7,
   "metadata": {},
   "outputs": [],
   "source": [
    "A = Matrix([[a1, a2, a3], [a4, a5, a6], [a7, a8, a9]])\n",
    "B = Matrix([[b1, b2, b3], [b4, b5, b6], [b7, b8, b9]])"
   ]
  },
  {
   "cell_type": "code",
   "execution_count": 8,
   "metadata": {},
   "outputs": [
    {
     "data": {
      "text/latex": [
       "$\\displaystyle \\left[\\begin{matrix}a_{1} & a_{2} & a_{3}\\\\a_{4} & a_{5} & a_{6}\\\\a_{7} & a_{8} & a_{9}\\end{matrix}\\right]$"
      ],
      "text/plain": [
       "Matrix([\n",
       "[a1, a2, a3],\n",
       "[a4, a5, a6],\n",
       "[a7, a8, a9]])"
      ]
     },
     "execution_count": 8,
     "metadata": {},
     "output_type": "execute_result"
    }
   ],
   "source": [
    "A"
   ]
  },
  {
   "cell_type": "code",
   "execution_count": 9,
   "metadata": {},
   "outputs": [
    {
     "data": {
      "text/latex": [
       "$\\displaystyle \\left[\\begin{matrix}b_{1} & b_{2} & b_{3}\\\\b_{4} & b_{5} & b_{6}\\\\b_{7} & b_{8} & b_{9}\\end{matrix}\\right]$"
      ],
      "text/plain": [
       "Matrix([\n",
       "[b1, b2, b3],\n",
       "[b4, b5, b6],\n",
       "[b7, b8, b9]])"
      ]
     },
     "execution_count": 9,
     "metadata": {},
     "output_type": "execute_result"
    }
   ],
   "source": [
    "B"
   ]
  },
  {
   "cell_type": "code",
   "execution_count": 11,
   "metadata": {},
   "outputs": [
    {
     "data": {
      "text/latex": [
       "$\\displaystyle a_{1} a_{5} a_{9} + a_{1} a_{5} b_{9} - a_{1} a_{6} a_{8} - a_{1} a_{6} b_{8} - a_{1} a_{8} b_{6} + a_{1} a_{9} b_{5} + a_{1} b_{5} b_{9} - a_{1} b_{6} b_{8} - a_{2} a_{4} a_{9} - a_{2} a_{4} b_{9} + a_{2} a_{6} a_{7} + a_{2} a_{6} b_{7} + a_{2} a_{7} b_{6} - a_{2} a_{9} b_{4} - a_{2} b_{4} b_{9} + a_{2} b_{6} b_{7} + a_{3} a_{4} a_{8} + a_{3} a_{4} b_{8} - a_{3} a_{5} a_{7} - a_{3} a_{5} b_{7} - a_{3} a_{7} b_{5} + a_{3} a_{8} b_{4} + a_{3} b_{4} b_{8} - a_{3} b_{5} b_{7} + a_{4} a_{8} b_{3} - a_{4} a_{9} b_{2} - a_{4} b_{2} b_{9} + a_{4} b_{3} b_{8} - a_{5} a_{7} b_{3} + a_{5} a_{9} b_{1} + a_{5} b_{1} b_{9} - a_{5} b_{3} b_{7} + a_{6} a_{7} b_{2} - a_{6} a_{8} b_{1} - a_{6} b_{1} b_{8} + a_{6} b_{2} b_{7} + a_{7} b_{2} b_{6} - a_{7} b_{3} b_{5} - a_{8} b_{1} b_{6} + a_{8} b_{3} b_{4} + a_{9} b_{1} b_{5} - a_{9} b_{2} b_{4} + b_{1} b_{5} b_{9} - b_{1} b_{6} b_{8} - b_{2} b_{4} b_{9} + b_{2} b_{6} b_{7} + b_{3} b_{4} b_{8} - b_{3} b_{5} b_{7}$"
      ],
      "text/plain": [
       "a1*a5*a9 + a1*a5*b9 - a1*a6*a8 - a1*a6*b8 - a1*a8*b6 + a1*a9*b5 + a1*b5*b9 - a1*b6*b8 - a2*a4*a9 - a2*a4*b9 + a2*a6*a7 + a2*a6*b7 + a2*a7*b6 - a2*a9*b4 - a2*b4*b9 + a2*b6*b7 + a3*a4*a8 + a3*a4*b8 - a3*a5*a7 - a3*a5*b7 - a3*a7*b5 + a3*a8*b4 + a3*b4*b8 - a3*b5*b7 + a4*a8*b3 - a4*a9*b2 - a4*b2*b9 + a4*b3*b8 - a5*a7*b3 + a5*a9*b1 + a5*b1*b9 - a5*b3*b7 + a6*a7*b2 - a6*a8*b1 - a6*b1*b8 + a6*b2*b7 + a7*b2*b6 - a7*b3*b5 - a8*b1*b6 + a8*b3*b4 + a9*b1*b5 - a9*b2*b4 + b1*b5*b9 - b1*b6*b8 - b2*b4*b9 + b2*b6*b7 + b3*b4*b8 - b3*b5*b7"
      ]
     },
     "execution_count": 11,
     "metadata": {},
     "output_type": "execute_result"
    }
   ],
   "source": [
    "(A+B).det()"
   ]
  },
  {
   "cell_type": "code",
   "execution_count": 21,
   "metadata": {},
   "outputs": [
    {
     "data": {
      "text/latex": [
       "$\\displaystyle a_{1} a_{5} a_{9} - a_{1} a_{6} a_{8} + a_{1} \\left(b_{5} b_{9} - b_{6} b_{8}\\right) - a_{2} a_{4} a_{9} + a_{2} a_{6} a_{7} - a_{2} \\left(b_{4} b_{9} - b_{6} b_{7}\\right) + a_{3} a_{4} a_{8} - a_{3} a_{5} a_{7} + a_{3} \\left(b_{4} b_{8} - b_{5} b_{7}\\right) - a_{4} \\left(b_{2} b_{9} - b_{3} b_{8}\\right) + a_{5} \\left(b_{1} b_{9} - b_{3} b_{7}\\right) - a_{6} \\left(b_{1} b_{8} - b_{2} b_{7}\\right) + a_{7} \\left(b_{2} b_{6} - b_{3} b_{5}\\right) - a_{8} \\left(b_{1} b_{6} - b_{3} b_{4}\\right) + a_{9} \\left(b_{1} b_{5} - b_{2} b_{4}\\right) + b_{1} b_{5} b_{9} - b_{1} b_{6} b_{8} + b_{1} \\left(a_{5} a_{9} - a_{6} a_{8}\\right) - b_{2} b_{4} b_{9} + b_{2} b_{6} b_{7} - b_{2} \\left(a_{4} a_{9} - a_{6} a_{7}\\right) + b_{3} b_{4} b_{8} - b_{3} b_{5} b_{7} + b_{3} \\left(a_{4} a_{8} - a_{5} a_{7}\\right) - b_{4} \\left(a_{2} a_{9} - a_{3} a_{8}\\right) + b_{5} \\left(a_{1} a_{9} - a_{3} a_{7}\\right) - b_{6} \\left(a_{1} a_{8} - a_{2} a_{7}\\right) + b_{7} \\left(a_{2} a_{6} - a_{3} a_{5}\\right) - b_{8} \\left(a_{1} a_{6} - a_{3} a_{4}\\right) + b_{9} \\left(a_{1} a_{5} - a_{2} a_{4}\\right)$"
      ],
      "text/plain": [
       "a1*a5*a9 - a1*a6*a8 + a1*(b5*b9 - b6*b8) - a2*a4*a9 + a2*a6*a7 - a2*(b4*b9 - b6*b7) + a3*a4*a8 - a3*a5*a7 + a3*(b4*b8 - b5*b7) - a4*(b2*b9 - b3*b8) + a5*(b1*b9 - b3*b7) - a6*(b1*b8 - b2*b7) + a7*(b2*b6 - b3*b5) - a8*(b1*b6 - b3*b4) + a9*(b1*b5 - b2*b4) + b1*b5*b9 - b1*b6*b8 + b1*(a5*a9 - a6*a8) - b2*b4*b9 + b2*b6*b7 - b2*(a4*a9 - a6*a7) + b3*b4*b8 - b3*b5*b7 + b3*(a4*a8 - a5*a7) - b4*(a2*a9 - a3*a8) + b5*(a1*a9 - a3*a7) - b6*(a1*a8 - a2*a7) + b7*(a2*a6 - a3*a5) - b8*(a1*a6 - a3*a4) + b9*(a1*a5 - a2*a4)"
      ]
     },
     "execution_count": 21,
     "metadata": {},
     "output_type": "execute_result"
    }
   ],
   "source": [
    "simplify(A.det() +\n",
    "         B.det() + \n",
    "         A.det()*(A.inv()*B).trace() +\n",
    "         B.det()*(B.inv()*A).trace()\n",
    "         )"
   ]
  },
  {
   "cell_type": "code",
   "execution_count": 22,
   "metadata": {},
   "outputs": [
    {
     "data": {
      "text/latex": [
       "$\\displaystyle 0$"
      ],
      "text/plain": [
       "0"
      ]
     },
     "execution_count": 22,
     "metadata": {},
     "output_type": "execute_result"
    }
   ],
   "source": [
    "simplify(A.det() +\n",
    "         B.det() + \n",
    "         A.det()*(A.inv()*B).trace() +\n",
    "         B.det()*(B.inv()*A).trace() -\n",
    "         (A+B).det()\n",
    "         )"
   ]
  },
  {
   "cell_type": "code",
   "execution_count": null,
   "metadata": {},
   "outputs": [],
   "source": []
  }
 ],
 "metadata": {
  "kernelspec": {
   "display_name": "Python 3",
   "language": "python",
   "name": "python3"
  }
 },
 "nbformat": 4,
 "nbformat_minor": 2
}

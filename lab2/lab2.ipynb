{
 "cells": [
  {
   "cell_type": "code",
   "execution_count": 1,
   "metadata": {},
   "outputs": [],
   "source": [
    "import numpy as np\n",
    "import matplotlib.pyplot as plt\n",
    "from PIL import Image\n",
    "from datetime import timedelta\n",
    "from timeit import default_timer as timer\n",
    "from math import sqrt"
   ]
  },
  {
   "cell_type": "markdown",
   "metadata": {},
   "source": [
    "## Images reading&resizing"
   ]
  },
  {
   "cell_type": "code",
   "execution_count": 2,
   "metadata": {},
   "outputs": [],
   "source": [
    "img_l = np.asanyarray(Image.open(\"i1.jpg\").resize((400,300), Image.BICUBIC).convert(\"RGB\")).astype(np.int)\n",
    "img_r = np.asanyarray(Image.open(\"i2.jpg\").resize((400,300), Image.BICUBIC).convert(\"RGB\")).astype(np.int)"
   ]
  },
  {
   "cell_type": "markdown",
   "metadata": {},
   "source": [
    "## Params definition"
   ]
  },
  {
   "cell_type": "code",
   "execution_count": 3,
   "metadata": {},
   "outputs": [],
   "source": [
    "kg_max=45\n",
    "kv_max=14\n",
    "kv_half = kv_max//2\n",
    "height = img_r.shape[0]\n",
    "length = img_r.shape[1]"
   ]
  },
  {
   "cell_type": "code",
   "execution_count": 4,
   "metadata": {},
   "outputs": [],
   "source": [
    "#import shelve"
   ]
  },
  {
   "cell_type": "code",
   "execution_count": 5,
   "metadata": {},
   "outputs": [],
   "source": [
    "#with shelve.open(\"lab2.db\") as db:\n",
    "    #db[\"img_shift2\"] = img_shift2\n",
    "    #img_shift2 = db[\"img_shift2\"]"
   ]
  },
  {
   "cell_type": "code",
   "execution_count": 6,
   "metadata": {},
   "outputs": [],
   "source": [
    "#np.save(\"img_shift.npy\", img_shift2)"
   ]
  },
  {
   "cell_type": "code",
   "execution_count": 66,
   "metadata": {},
   "outputs": [],
   "source": [
    "img_shift2 = np.load(\"img_shift.npy\")"
   ]
  },
  {
   "cell_type": "code",
   "execution_count": 67,
   "metadata": {},
   "outputs": [],
   "source": [
    "from scipy import ndimage"
   ]
  },
  {
   "cell_type": "code",
   "execution_count": 59,
   "metadata": {},
   "outputs": [
    {
     "data": {
      "image/png": "[encoded data removed]",
      "text/plain": [
       "<PIL.Image.Image image mode=RGB size=400x300 at 0x7F3A949560B8>"
      ]
     },
     "execution_count": 59,
     "metadata": {},
     "output_type": "execute_result"
    }
   ],
   "source": [
    "k = np.ones((3,3))/9\n",
    "img_shift2[:,:,0] = ndimage.convolve(img_shift2[:,:,0], k, mode='reflect')\n",
    "img_shift2[:,:,1] = ndimage.convolve(img_shift2[:,:,1], k, mode='reflect')\n",
    "Image.fromarray((255.9*img_shift2/img_shift2.max()).astype(np.uint8))"
   ]
  },
  {
   "cell_type": "markdown",
   "metadata": {},
   "source": [
    "# lab2 start"
   ]
  },
  {
   "cell_type": "markdown",
   "metadata": {},
   "source": [
    "https://staff.fnwi.uva.nl/l.dorst/hz/chap11_13.pdf"
   ]
  },
  {
   "cell_type": "code",
   "execution_count": 60,
   "metadata": {},
   "outputs": [],
   "source": [
    "from random import choices\n",
    "from scipy.linalg import null_space"
   ]
  },
  {
   "cell_type": "code",
   "execution_count": 73,
   "metadata": {},
   "outputs": [],
   "source": [
    "def is_smooth(img_shift, x, y, radius=2):\n",
    "    for i in range(-radius,radius+1):\n",
    "        for j in range(-radius,radius+1):\n",
    "            if np.any(img_shift[y, x] != img_shift[y+i, x+j]):\n",
    "                return False\n",
    "    return True\n",
    "\n",
    "\n",
    "map2draw = np.zeros((img_r.shape), dtype=np.uint8)\n",
    "\n",
    "pairs = []\n",
    "rejected_pairs = []\n",
    "# (X, X')\n",
    "for y_r in range(30, img_r.shape[0] - 30):\n",
    "    for x_r in range(30, img_r.shape[1] - 30):\n",
    "        x_r3d = [x_r, y_r, 1]\n",
    "        \n",
    "        dot_shift = img_shift2[y_r, x_r]\n",
    "        \n",
    "        x_l = int(x_r - dot_shift[0])\n",
    "        y_l = int(y_r - (dot_shift[1] - kv_half))\n",
    "        x_l3d = [x_l, y_l, 1]\n",
    "        \n",
    "        if is_smooth(img_shift2, x_r, y_r):\n",
    "            pairs.append([x_l3d, x_r3d])\n",
    "            map2draw[y_r, x_r] = 255\n",
    "        else:\n",
    "            rejected_pairs.append([x_l3d, x_r3d])"
   ]
  },
  {
   "cell_type": "code",
   "execution_count": 74,
   "metadata": {},
   "outputs": [
    {
     "data": {
      "image/png": "[encoded data removed]",
      "text/plain": [
       "<PIL.Image.Image image mode=RGB size=400x300 at 0x7F3A57B9AC50>"
      ]
     },
     "execution_count": 74,
     "metadata": {},
     "output_type": "execute_result"
    }
   ],
   "source": [
    "Image.fromarray(map2draw)"
   ]
  },
  {
   "cell_type": "code",
   "execution_count": 75,
   "metadata": {},
   "outputs": [
    {
     "data": {
      "text/plain": [
       "19072"
      ]
     },
     "execution_count": 75,
     "metadata": {},
     "output_type": "execute_result"
    }
   ],
   "source": [
    "len(pairs)"
   ]
  },
  {
   "cell_type": "code",
   "execution_count": 76,
   "metadata": {},
   "outputs": [
    {
     "data": {
      "text/plain": [
       "62528"
      ]
     },
     "execution_count": 76,
     "metadata": {},
     "output_type": "execute_result"
    }
   ],
   "source": [
    "len(rejected_pairs)"
   ]
  },
  {
   "cell_type": "code",
   "execution_count": null,
   "metadata": {
    "scrolled": true
   },
   "outputs": [
    {
     "name": "stderr",
     "output_type": "stream",
     "text": [
      "/usr/lib/python3/dist-packages/ipykernel_launcher.py:40: ComplexWarning: Casting complex values to real discards the imaginary part\n"
     ]
    },
    {
     "name": "stdout",
     "output_type": "stream",
     "text": [
      "====================\n",
      "hit 0.00047189597315436244\n",
      "[[-0.85521725]\n",
      " [-0.51824088]\n",
      " [-0.00546332]]\n",
      "X: 156.53807186380303\n",
      "Y: 94.85827008137115\n",
      "====================\n",
      "hit 0.001153523489932886\n",
      "[[-0.67519917]\n",
      " [-0.73762281]\n",
      " [-0.00432113]]\n",
      "X: 156.2553264107229\n",
      "Y: 170.70147162201246\n",
      "====================\n",
      "hit 0.0014156879194630872\n",
      "[[-0.87268808]\n",
      " [-0.48823377]\n",
      " [-0.00658005]]\n",
      "X: 132.62627045400447\n",
      "Y: 74.19904783788908\n",
      "====================\n",
      "hit 0.0028313758389261743\n",
      "[[-0.13488555]\n",
      " [-0.9908568 ]\n",
      " [-0.00294762]]\n",
      "X: 45.7608678078188\n",
      "Y: 336.15511677192154\n",
      "====================\n",
      "hit 0.003355704697986577\n",
      "[[-0.61446065]\n",
      " [-0.78894046]\n",
      " [-0.00332596]]\n",
      "X: 184.74687962399327\n",
      "Y: 237.20686992020123\n",
      "====================\n",
      "hit 0.004037332214765101\n",
      "[[-0.68548423]\n",
      " [-0.72807828]\n",
      " [-0.00366023]]\n",
      "X: 187.2791921989484\n",
      "Y: 198.91619096647915\n",
      "====================\n",
      "hit 0.004614093959731544\n",
      "[[-0.73531407]\n",
      " [-0.67771732]\n",
      " [-0.00352818]]\n",
      "X: 208.41151145725905\n",
      "Y: 192.08674959179288\n",
      "====================\n",
      "hit 0.2648909395973154\n",
      "[[-4.47213596e-01]\n",
      " [-8.94427191e-01]\n",
      " [-7.72715225e-14]]\n",
      "X: 5787560293269.806\n",
      "Y: 11575120586473.074\n",
      "====================\n",
      "hit 0.28083053691275167\n",
      "[[ 7.07106781e-01]\n",
      " [-7.07106781e-01]\n",
      " [-4.79616347e-14]]\n",
      "X: -14743175167653.402\n",
      "Y: 14743175168114.062\n",
      "====================\n",
      "hit 0.3105599832214765\n",
      "[[ 8.74922046e-11]\n",
      " [-1.00000000e+00]\n",
      " [ 4.66737760e-13]]\n",
      "X: 187.45473840802467\n",
      "Y: -2142530745656.7537\n"
     ]
    }
   ],
   "source": [
    "Boundary = 1e-4\n",
    "bestF = None\n",
    "bestScore = 0\n",
    "\n",
    "all_right = np.array([i[1] for i in pairs])\n",
    "all_left = np.array([i[0] for i in pairs])\n",
    "\n",
    "for iteration in range(20000):\n",
    "    seven_pairs = choices(pairs, k=7)\n",
    "    X_big = []\n",
    "    for left, right in seven_pairs:\n",
    "        x_l, y_l, z_l = left\n",
    "        x_r, y_r, z_r = right\n",
    "        X_big.append([x_r*x_l, x_r*y_l, x_r*z_l,\n",
    "                      y_r*x_l, y_r*y_l, y_r*z_l,\n",
    "                      z_r*x_l, z_r*y_l, z_r*z_l])\n",
    "        # на попередній лінії була помилка,\n",
    "        # через яку я декілька тижнів не міг зрозуміти чого не працює.\n",
    "        # вічна пам'ять моїм загиблим нервовим клітинам.\n",
    "        # F\n",
    "    X_big = np.array(X_big)\n",
    "    null_vectors = null_space(X_big)\n",
    "    f1 = null_vectors[:,0].reshape((3,3))\n",
    "    f2 = null_vectors[:,1].reshape((3,3))\n",
    "    \n",
    "    p = np.array([\n",
    "     np.linalg.det(f2),\n",
    "     np.linalg.det(f2)*np.trace(np.dot(np.linalg.inv(f2), f1)),\n",
    "     np.linalg.det(f1)*np.trace(np.dot(np.linalg.inv(f1), f2)),\n",
    "     np.linalg.det(f1),\n",
    "    # на попередній лінії була помилка,\n",
    "    # через яку я декілька місяців не міг зрозуміти чого не працює.\n",
    "    # вічна пам'ять моїм загиблим нервовим клітинам.\n",
    "    # F\n",
    "    ])\n",
    "    coefs = np.roots(p)\n",
    "    for i in coefs:\n",
    "        if np.iscomplex(i):\n",
    "            continue\n",
    "        F = f1+float(i)*f2\n",
    "        # both matrix have zero det\n",
    "        score = np.sum(np.abs(np.einsum('ki,ij,kj->k', all_right, F, all_left)) < Boundary)\n",
    "        if score > bestScore:\n",
    "            bestScore = score\n",
    "            bestF = F.copy()\n",
    "            print(\"=\"*20)\n",
    "            print(\"hit\", bestScore/len(pairs))\n",
    "            \n",
    "            epipole = null_space(bestF, 1e-3)\n",
    "            print(epipole)\n",
    "            epipole = epipole/epipole[-1]\n",
    "            epipole_strich = [epipole[0,0], epipole[1,0]]\n",
    "            print(\"X:\", epipole_strich[0])\n",
    "            print(\"Y:\", epipole_strich[1])"
   ]
  },
  {
   "cell_type": "markdown",
   "metadata": {},
   "source": [
    "## Фундаментальна матриця"
   ]
  },
  {
   "cell_type": "code",
   "execution_count": 52,
   "metadata": {},
   "outputs": [
    {
     "data": {
      "text/plain": [
       "array([[ 0.  , -0.  ,  0.  ],\n",
       "       [ 0.  , -0.  , -0.7 ],\n",
       "       [-0.  ,  0.7 ,  1.41]])"
      ]
     },
     "execution_count": 52,
     "metadata": {},
     "output_type": "execute_result"
    }
   ],
   "source": [
    "np.round(bestF, 2)"
   ]
  },
  {
   "cell_type": "code",
   "execution_count": 53,
   "metadata": {},
   "outputs": [
    {
     "data": {
      "text/plain": [
       "array([[ 1.01643954e-20, -4.92932518e-16,  1.81687998e-13],\n",
       "       [ 5.30716963e-16, -2.85136701e-17, -7.03656547e-01],\n",
       "       [-1.89265270e-13,  7.03656547e-01,  1.40731309e+00]])"
      ]
     },
     "execution_count": 53,
     "metadata": {},
     "output_type": "execute_result"
    }
   ],
   "source": [
    "bestF"
   ]
  },
  {
   "cell_type": "code",
   "execution_count": 36,
   "metadata": {},
   "outputs": [],
   "source": [
    "np.save(\"bestF.npy\", bestF)\n",
    "np.save(\"bestScore.npy\", bestScore)"
   ]
  },
  {
   "cell_type": "code",
   "execution_count": 37,
   "metadata": {},
   "outputs": [],
   "source": [
    "#bestF = np.load(\"bestF.npy\")\n",
    "#bestScore = np.load(\"bestScore.npy\")"
   ]
  },
  {
   "cell_type": "code",
   "execution_count": 38,
   "metadata": {},
   "outputs": [],
   "source": [
    "#with shelve.open(\"lab2.db\") as db:\n",
    "#    #db[\"bestF\"] = bestF\n",
    "#    #db[\"bestScore\"] = bestScore\n",
    "#    bestF = db[\"bestF\"]\n",
    "#    bestScore = db[\"bestScore\"]\n",
    "#    #img_shift2 = db[\"img_shift2\"]"
   ]
  },
  {
   "cell_type": "markdown",
   "metadata": {},
   "source": [
    "## Відсоток точок, які задовольняють умову до фундаментальної матриці"
   ]
  },
  {
   "cell_type": "code",
   "execution_count": 39,
   "metadata": {},
   "outputs": [
    {
     "name": "stdout",
     "output_type": "stream",
     "text": [
      "45.09 %\n"
     ]
    }
   ],
   "source": [
    "print(round(100*bestScore/len(pairs), 2),\"%\")"
   ]
  },
  {
   "cell_type": "markdown",
   "metadata": {},
   "source": [
    "## Епіполярна точка у 3-х координатах"
   ]
  },
  {
   "cell_type": "code",
   "execution_count": 40,
   "metadata": {},
   "outputs": [
    {
     "data": {
      "text/plain": [
       "array([[2.63733935e+13],\n",
       "       [7.91201805e+13],\n",
       "       [1.00000000e+00]])"
      ]
     },
     "execution_count": 40,
     "metadata": {},
     "output_type": "execute_result"
    }
   ],
   "source": [
    "epipole = null_space(bestF, 1e-3)\n",
    "epipole = epipole/epipole[-1]\n",
    "epipole"
   ]
  },
  {
   "cell_type": "code",
   "execution_count": 41,
   "metadata": {},
   "outputs": [
    {
     "data": {
      "text/plain": [
       "2.980300927693907e-20"
      ]
     },
     "execution_count": 41,
     "metadata": {},
     "output_type": "execute_result"
    }
   ],
   "source": [
    "np.linalg.det(bestF)"
   ]
  },
  {
   "cell_type": "code",
   "execution_count": 42,
   "metadata": {},
   "outputs": [],
   "source": [
    "epipole_strich = [epipole[0,0], epipole[1,0]]"
   ]
  },
  {
   "cell_type": "markdown",
   "metadata": {},
   "source": [
    "## Епіполярна точка"
   ]
  },
  {
   "cell_type": "code",
   "execution_count": 43,
   "metadata": {},
   "outputs": [
    {
     "name": "stdout",
     "output_type": "stream",
     "text": [
      "X: 26373393503788.66\n",
      "Y: 79120180510936.88\n"
     ]
    }
   ],
   "source": [
    "print(\"X:\", epipole_strich[0])\n",
    "print(\"Y:\", epipole_strich[1])"
   ]
  },
  {
   "cell_type": "markdown",
   "metadata": {},
   "source": [
    "## Ліве зображення"
   ]
  },
  {
   "cell_type": "code",
   "execution_count": 26,
   "metadata": {},
   "outputs": [],
   "source": [
    "from PIL import ImageDraw"
   ]
  },
  {
   "cell_type": "code",
   "execution_count": 27,
   "metadata": {},
   "outputs": [
    {
     "ename": "KeyboardInterrupt",
     "evalue": "",
     "output_type": "error",
     "traceback": [
      "\u001b[0;31m---------------------------------------------------------------------------\u001b[0m",
      "\u001b[0;31mKeyboardInterrupt\u001b[0m                         Traceback (most recent call last)",
      "\u001b[0;32m<ipython-input-27-557dd54a5197>\u001b[0m in \u001b[0;36m<module>\u001b[0;34m()\u001b[0m\n\u001b[1;32m      2\u001b[0m \u001b[0mdraw\u001b[0m \u001b[0;34m=\u001b[0m \u001b[0mImageDraw\u001b[0m\u001b[0;34m.\u001b[0m\u001b[0mDraw\u001b[0m\u001b[0;34m(\u001b[0m\u001b[0mimage2show\u001b[0m\u001b[0;34m)\u001b[0m\u001b[0;34m\u001b[0m\u001b[0;34m\u001b[0m\u001b[0m\n\u001b[1;32m      3\u001b[0m \u001b[0;32mfor\u001b[0m \u001b[0mi\u001b[0m \u001b[0;32min\u001b[0m \u001b[0mrange\u001b[0m\u001b[0;34m(\u001b[0m\u001b[0;36m11\u001b[0m\u001b[0;34m)\u001b[0m\u001b[0;34m:\u001b[0m\u001b[0;34m\u001b[0m\u001b[0;34m\u001b[0m\u001b[0m\n\u001b[0;32m----> 4\u001b[0;31m     \u001b[0mdraw\u001b[0m\u001b[0;34m.\u001b[0m\u001b[0mline\u001b[0m\u001b[0;34m(\u001b[0m\u001b[0;34m(\u001b[0m\u001b[0;36m0\u001b[0m\u001b[0;34m,\u001b[0m \u001b[0mi\u001b[0m\u001b[0;34m*\u001b[0m\u001b[0;36m30\u001b[0m\u001b[0;34m,\u001b[0m \u001b[0mepipole_strich\u001b[0m\u001b[0;34m[\u001b[0m\u001b[0;36m0\u001b[0m\u001b[0;34m]\u001b[0m\u001b[0;34m,\u001b[0m \u001b[0mepipole_strich\u001b[0m\u001b[0;34m[\u001b[0m\u001b[0;36m1\u001b[0m\u001b[0;34m]\u001b[0m\u001b[0;34m)\u001b[0m\u001b[0;34m,\u001b[0m \u001b[0mfill\u001b[0m\u001b[0;34m=\u001b[0m\u001b[0;36m128\u001b[0m\u001b[0;34m)\u001b[0m\u001b[0;34m\u001b[0m\u001b[0;34m\u001b[0m\u001b[0m\n\u001b[0m\u001b[1;32m      5\u001b[0m \u001b[0mimage2show\u001b[0m\u001b[0;34m\u001b[0m\u001b[0;34m\u001b[0m\u001b[0m\n",
      "\u001b[0;32m/home/anton/.local/lib/python3.6/site-packages/PIL/ImageDraw.py\u001b[0m in \u001b[0;36mline\u001b[0;34m(self, xy, fill, width, joint)\u001b[0m\n\u001b[1;32m    155\u001b[0m         \u001b[0mink\u001b[0m \u001b[0;34m=\u001b[0m \u001b[0mself\u001b[0m\u001b[0;34m.\u001b[0m\u001b[0m_getink\u001b[0m\u001b[0;34m(\u001b[0m\u001b[0mfill\u001b[0m\u001b[0;34m)\u001b[0m\u001b[0;34m[\u001b[0m\u001b[0;36m0\u001b[0m\u001b[0;34m]\u001b[0m\u001b[0;34m\u001b[0m\u001b[0;34m\u001b[0m\u001b[0m\n\u001b[1;32m    156\u001b[0m         \u001b[0;32mif\u001b[0m \u001b[0mink\u001b[0m \u001b[0;32mis\u001b[0m \u001b[0;32mnot\u001b[0m \u001b[0;32mNone\u001b[0m\u001b[0;34m:\u001b[0m\u001b[0;34m\u001b[0m\u001b[0;34m\u001b[0m\u001b[0m\n\u001b[0;32m--> 157\u001b[0;31m             \u001b[0mself\u001b[0m\u001b[0;34m.\u001b[0m\u001b[0mdraw\u001b[0m\u001b[0;34m.\u001b[0m\u001b[0mdraw_lines\u001b[0m\u001b[0;34m(\u001b[0m\u001b[0mxy\u001b[0m\u001b[0;34m,\u001b[0m \u001b[0mink\u001b[0m\u001b[0;34m,\u001b[0m \u001b[0mwidth\u001b[0m\u001b[0;34m)\u001b[0m\u001b[0;34m\u001b[0m\u001b[0;34m\u001b[0m\u001b[0m\n\u001b[0m\u001b[1;32m    158\u001b[0m             \u001b[0;32mif\u001b[0m \u001b[0mjoint\u001b[0m \u001b[0;34m==\u001b[0m \u001b[0;34m\"curve\"\u001b[0m \u001b[0;32mand\u001b[0m \u001b[0mwidth\u001b[0m \u001b[0;34m>\u001b[0m \u001b[0;36m4\u001b[0m\u001b[0;34m:\u001b[0m\u001b[0;34m\u001b[0m\u001b[0;34m\u001b[0m\u001b[0m\n\u001b[1;32m    159\u001b[0m                 \u001b[0;32mfor\u001b[0m \u001b[0mi\u001b[0m \u001b[0;32min\u001b[0m \u001b[0mrange\u001b[0m\u001b[0;34m(\u001b[0m\u001b[0;36m1\u001b[0m\u001b[0;34m,\u001b[0m \u001b[0mlen\u001b[0m\u001b[0;34m(\u001b[0m\u001b[0mxy\u001b[0m\u001b[0;34m)\u001b[0m \u001b[0;34m-\u001b[0m \u001b[0;36m1\u001b[0m\u001b[0;34m)\u001b[0m\u001b[0;34m:\u001b[0m\u001b[0;34m\u001b[0m\u001b[0;34m\u001b[0m\u001b[0m\n",
      "\u001b[0;31mKeyboardInterrupt\u001b[0m: "
     ]
    }
   ],
   "source": [
    "image2show = Image.open(\"i1.jpg\").resize((400,300), Image.BICUBIC).convert(\"RGB\")\n",
    "draw = ImageDraw.Draw(image2show)\n",
    "for i in range(11):\n",
    "    draw.line((0, i*30, epipole_strich[0], epipole_strich[1]), fill=128)\n",
    "image2show"
   ]
  },
  {
   "cell_type": "markdown",
   "metadata": {},
   "source": [
    "## Праве зображення"
   ]
  },
  {
   "cell_type": "code",
   "execution_count": null,
   "metadata": {},
   "outputs": [],
   "source": [
    "Image.open(\"i2.jpg\").resize((400,300), Image.BICUBIC).convert(\"RGB\")"
   ]
  },
  {
   "cell_type": "code",
   "execution_count": null,
   "metadata": {},
   "outputs": [],
   "source": []
  },
  {
   "cell_type": "code",
   "execution_count": null,
   "metadata": {},
   "outputs": [],
   "source": []
  }
 ],
 "metadata": {
  "kernelspec": {
   "display_name": "Python 3",
   "language": "python",
   "name": "python3"
  },
  "language_info": {
   "codemirror_mode": {
    "name": "ipython",
    "version": 3
   },
   "file_extension": ".py",
   "mimetype": "text/x-python",
   "name": "python",
   "nbconvert_exporter": "python",
   "pygments_lexer": "ipython3",
   "version": "3.6.9"
  }
 },
 "nbformat": 4,
 "nbformat_minor": 2
}

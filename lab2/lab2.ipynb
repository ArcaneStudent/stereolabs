{
 "cells": [
  {
   "cell_type": "code",
   "execution_count": 1,
   "metadata": {},
   "outputs": [],
   "source": [
    "import numpy as np\n",
    "import matplotlib.pyplot as plt\n",
    "from PIL import Image\n",
    "from datetime import timedelta\n",
    "from timeit import default_timer as timer\n",
    "from math import sqrt"
   ]
  },
  {
   "cell_type": "markdown",
   "metadata": {},
   "source": [
    "## Images reading&resizing"
   ]
  },
  {
   "cell_type": "code",
   "execution_count": 2,
   "metadata": {},
   "outputs": [],
   "source": [
    "img_l = np.asanyarray(Image.open(\"i1.jpg\").resize((400,300), Image.BICUBIC).convert(\"RGB\")).astype(np.int)\n",
    "img_r = np.asanyarray(Image.open(\"i2.jpg\").resize((400,300), Image.BICUBIC).convert(\"RGB\")).astype(np.int)"
   ]
  },
  {
   "cell_type": "markdown",
   "metadata": {},
   "source": [
    "## Params definition"
   ]
  },
  {
   "cell_type": "code",
   "execution_count": 3,
   "metadata": {},
   "outputs": [],
   "source": [
    "kg_max=45\n",
    "kv_max=14\n",
    "kv_half = kv_max//2\n",
    "height = img_r.shape[0]\n",
    "length = img_r.shape[1]"
   ]
  },
  {
   "cell_type": "code",
   "execution_count": 4,
   "metadata": {},
   "outputs": [],
   "source": [
    "#import shelve"
   ]
  },
  {
   "cell_type": "code",
   "execution_count": 5,
   "metadata": {},
   "outputs": [],
   "source": [
    "#with shelve.open(\"lab2.db\") as db:\n",
    "    #db[\"img_shift2\"] = img_shift2\n",
    "    #img_shift2 = db[\"img_shift2\"]"
   ]
  },
  {
   "cell_type": "code",
   "execution_count": 6,
   "metadata": {},
   "outputs": [],
   "source": [
    "#np.save(\"img_shift.npy\", img_shift2)"
   ]
  },
  {
   "cell_type": "code",
   "execution_count": 7,
   "metadata": {},
   "outputs": [],
   "source": [
    "img_shift2 = np.load(\"img_shift.npy\")"
   ]
  },
  {
   "cell_type": "code",
   "execution_count": 8,
   "metadata": {},
   "outputs": [],
   "source": [
    "from scipy import ndimage"
   ]
  },
  {
   "cell_type": "code",
   "execution_count": 9,
   "metadata": {},
   "outputs": [],
   "source": [
    "#k = np.ones((3,3))/9\n",
    "#img_shift2[:,:,0] = ndimage.convolve(img_shift2[:,:,0], k, mode='reflect')\n",
    "#img_shift2[:,:,1] = ndimage.convolve(img_shift2[:,:,1], k, mode='reflect')\n",
    "#Image.fromarray((255.9*img_shift2/img_shift2.max()).astype(np.uint8))"
   ]
  },
  {
   "cell_type": "markdown",
   "metadata": {},
   "source": [
    "# lab2 start"
   ]
  },
  {
   "cell_type": "markdown",
   "metadata": {},
   "source": [
    "https://staff.fnwi.uva.nl/l.dorst/hz/chap11_13.pdf"
   ]
  },
  {
   "cell_type": "code",
   "execution_count": 10,
   "metadata": {},
   "outputs": [],
   "source": [
    "from random import choices\n",
    "from scipy.linalg import null_space"
   ]
  },
  {
   "cell_type": "code",
   "execution_count": 11,
   "metadata": {},
   "outputs": [],
   "source": [
    "def is_smooth(img_shift, x, y, radius=2):\n",
    "    for i in range(-radius,radius+1):\n",
    "        for j in range(-radius,radius+1):\n",
    "            if np.any(img_shift[y, x] != img_shift[y+i, x+j]):\n",
    "                return False\n",
    "    return True\n",
    "\n",
    "\n",
    "map2draw = np.zeros((img_r.shape), dtype=np.uint8)\n",
    "\n",
    "pairs = []\n",
    "rejected_pairs = []\n",
    "# (X, X')\n",
    "for y_r in range(30, img_r.shape[0] - 30):\n",
    "    for x_r in range(30, img_r.shape[1] - 30):\n",
    "        x_r3d = [x_r, y_r, 1]\n",
    "        \n",
    "        dot_shift = img_shift2[y_r, x_r]\n",
    "        \n",
    "        x_l = int(x_r - dot_shift[0])\n",
    "        y_l = int(y_r - (dot_shift[1] - kv_half))\n",
    "        x_l3d = [x_l, y_l, 1]\n",
    "        \n",
    "        if is_smooth(img_shift2, x_r, y_r):\n",
    "            pairs.append([x_l3d, x_r3d])\n",
    "            map2draw[y_r, x_r] = 255\n",
    "        else:\n",
    "            rejected_pairs.append([x_l3d, x_r3d])"
   ]
  },
  {
   "cell_type": "code",
   "execution_count": 12,
   "metadata": {},
   "outputs": [
    {
     "data": {
      "image/png": "[encoded data removed]",
      "text/plain": [
       "<PIL.Image.Image image mode=RGB size=400x300 at 0x7F4074C00C50>"
      ]
     },
     "execution_count": 12,
     "metadata": {},
     "output_type": "execute_result"
    }
   ],
   "source": [
    "Image.fromarray(map2draw)"
   ]
  },
  {
   "cell_type": "code",
   "execution_count": 13,
   "metadata": {},
   "outputs": [
    {
     "data": {
      "text/plain": [
       "19072"
      ]
     },
     "execution_count": 13,
     "metadata": {},
     "output_type": "execute_result"
    }
   ],
   "source": [
    "len(pairs)"
   ]
  },
  {
   "cell_type": "code",
   "execution_count": 14,
   "metadata": {},
   "outputs": [
    {
     "data": {
      "text/plain": [
       "62528"
      ]
     },
     "execution_count": 14,
     "metadata": {},
     "output_type": "execute_result"
    }
   ],
   "source": [
    "len(rejected_pairs)"
   ]
  },
  {
   "cell_type": "code",
   "execution_count": 30,
   "metadata": {
    "scrolled": true
   },
   "outputs": [
    {
     "name": "stdout",
     "output_type": "stream",
     "text": [
      "====================\n",
      "hit 0.0003670302013422819\n",
      "[[-0.74421321-0.j]\n",
      " [-0.66793561-0.j]\n",
      " [-0.00295148-0.j]]\n",
      "X: (252.14958121379058-0j)\n",
      "Y: (226.30568990142817-0j)\n",
      "====================\n",
      "hit 0.000576761744966443\n",
      "[[0.3138456 ]\n",
      " [0.9494733 ]\n",
      " [0.00117762]]\n",
      "X: 266.5073965493603\n",
      "Y: 806.2615973496731\n",
      "====================\n",
      "hit 0.012688758389261746\n",
      "[[-0.61228806]\n",
      " [-0.79062739]\n",
      " [-0.00341565]]\n",
      "X: 179.25985033570387\n",
      "Y: 231.4723366833177\n",
      "====================\n",
      "hit 0.03193162751677853\n",
      "[[0.55681681]\n",
      " [0.83062777]\n",
      " [0.0035425 ]]\n",
      "X: 157.18206554349686\n",
      "Y: 234.47530267329896\n",
      "====================\n",
      "hit 0.04860528523489933\n",
      "[[-0.73168949]\n",
      " [-0.68163151]\n",
      " [-0.00299533]]\n",
      "X: 244.27673443507345\n",
      "Y: 227.5647293087481\n",
      "====================\n",
      "hit 0.07052223154362416\n",
      "[[-0.59014147]\n",
      " [-0.80729158]\n",
      " [-0.0036548 ]]\n",
      "X: 161.4704156101099\n",
      "Y: 220.88552369293703\n",
      "====================\n",
      "hit 0.10334521812080537\n",
      "[[0.63680536]\n",
      " [0.77102322]\n",
      " [0.00145889]]\n",
      "X: 436.5000000122986\n",
      "Y: 528.500000013918\n",
      "====================\n",
      "hit 0.16401006711409397\n",
      "[[-3.16227766e-01-0.j]\n",
      " [-9.48683298e-01-0.j]\n",
      " [-1.03139719e-13-0.j]]\n",
      "X: (3066013453763.2183-0j)\n",
      "Y: (9198040360748.72-0j)\n",
      "====================\n",
      "hit 0.2648909395973154\n",
      "[[-4.47213595e-01]\n",
      " [-8.94427191e-01]\n",
      " [ 9.96980276e-14]]\n",
      "X: -4485681474432.435\n",
      "Y: -8971362949023.371\n",
      "====================\n",
      "hit 0.26499580536912754\n",
      "[[-7.07106781e-01-0.j]\n",
      " [ 7.07106781e-01-0.j]\n",
      " [ 7.04214465e-13-0.j]]\n",
      "X: (-1004107153031.0238-0j)\n",
      "Y: (1004107153299.0325+0j)\n",
      "====================\n",
      "hit 0.3105599832214765\n",
      "[[7.97751762e-11-0.j]\n",
      " [1.00000000e+00-0.j]\n",
      " [4.39093206e-13-0.j]]\n",
      "X: (181.68164549672073+0j)\n",
      "Y: (2277420797658.91+0j)\n"
     ]
    }
   ],
   "source": [
    "Boundary = 0.001\n",
    "bestF = None\n",
    "bestScore = 0\n",
    "\n",
    "all_right = np.array([i[1] for i in pairs])\n",
    "all_left = np.array([i[0] for i in pairs])\n",
    "\n",
    "for iteration in range(20000):\n",
    "    seven_pairs = choices(pairs, k=7)\n",
    "    X_big = []\n",
    "    for left, right in seven_pairs:\n",
    "        x_l, y_l, z_l = left\n",
    "        x_r, y_r, z_r = right\n",
    "        X_big.append([x_r*x_l, x_r*y_l, x_r*z_l,\n",
    "                      y_r*x_l, y_r*y_l, y_r*z_l,\n",
    "                      z_r*x_l, z_r*y_l, z_r*z_l])\n",
    "        # на попередній лінії була помилка,\n",
    "        # через яку я декілька тижнів не міг зрозуміти чого не працює.\n",
    "        # вічна пам'ять моїм загиблим нервовим клітинам.\n",
    "        # F\n",
    "    X_big = np.array(X_big)\n",
    "    null_vectors = null_space(X_big)\n",
    "    f1 = null_vectors[:,0].reshape((3,3))\n",
    "    f2 = null_vectors[:,1].reshape((3,3))\n",
    "    \n",
    "    p = np.array([\n",
    "     np.linalg.det(f2),\n",
    "     np.linalg.det(f2)*np.trace(np.dot(np.linalg.inv(f2), f1)),\n",
    "     np.linalg.det(f1)*np.trace(np.dot(np.linalg.inv(f1), f2)),\n",
    "     np.linalg.det(f1),\n",
    "    ])\n",
    "    coefs = np.roots(p)\n",
    "    for i in coefs[:1]:\n",
    "        if np.iscomplex(i):\n",
    "            continue\n",
    "        F = f1+i*f2\n",
    "        # both matrix have zero det\n",
    "        score = np.sum(np.abs(np.einsum('ki,ij,kj->k', all_right, F, all_left)) < Boundary)\n",
    "        if score > bestScore:\n",
    "            bestScore = score\n",
    "            bestF = F.copy()\n",
    "            print(\"=\"*20)\n",
    "            print(\"hit\", bestScore/len(pairs))\n",
    "            \n",
    "            epipole = null_space(bestF, 1e-3)\n",
    "            print(epipole)\n",
    "            epipole = epipole/epipole[-1]\n",
    "            epipole_strich = [epipole[0,0], epipole[1,0]]\n",
    "            print(\"X:\", epipole_strich[0])\n",
    "            print(\"Y:\", epipole_strich[1])"
   ]
  },
  {
   "cell_type": "markdown",
   "metadata": {},
   "source": [
    "## Фундаментальна матриця"
   ]
  },
  {
   "cell_type": "code",
   "execution_count": 16,
   "metadata": {},
   "outputs": [
    {
     "data": {
      "text/plain": [
       "array([[  -0.  ,   -0.  ,   33.76],\n",
       "       [   0.  ,    0.  ,   -0.  ],\n",
       "       [ -33.76,    0.  , -270.12]])"
      ]
     },
     "execution_count": 16,
     "metadata": {},
     "output_type": "execute_result"
    }
   ],
   "source": [
    "np.round(bestF, 2)"
   ]
  },
  {
   "cell_type": "code",
   "execution_count": 17,
   "metadata": {},
   "outputs": [
    {
     "data": {
      "text/plain": [
       "array([[-2.40556246e-13, -1.37909701e-11,  3.37649795e+01],\n",
       "       [ 1.38704152e-11,  4.06575815e-20, -8.82756535e-10],\n",
       "       [-3.37649795e+01,  9.96214999e-10, -2.70119836e+02]])"
      ]
     },
     "execution_count": 17,
     "metadata": {},
     "output_type": "execute_result"
    }
   ],
   "source": [
    "bestF"
   ]
  },
  {
   "cell_type": "code",
   "execution_count": 18,
   "metadata": {},
   "outputs": [],
   "source": [
    "np.save(\"bestF.npy\", bestF)\n",
    "np.save(\"bestScore.npy\", bestScore)"
   ]
  },
  {
   "cell_type": "code",
   "execution_count": 19,
   "metadata": {},
   "outputs": [],
   "source": [
    "#bestF = np.load(\"bestF.npy\")\n",
    "#bestScore = np.load(\"bestScore.npy\")"
   ]
  },
  {
   "cell_type": "code",
   "execution_count": 20,
   "metadata": {},
   "outputs": [],
   "source": [
    "#with shelve.open(\"lab2.db\") as db:\n",
    "#    #db[\"bestF\"] = bestF\n",
    "#    #db[\"bestScore\"] = bestScore\n",
    "#    bestF = db[\"bestF\"]\n",
    "#    bestScore = db[\"bestScore\"]\n",
    "#    #img_shift2 = db[\"img_shift2\"]"
   ]
  },
  {
   "cell_type": "markdown",
   "metadata": {},
   "source": [
    "## Відсоток точок, які задовольняють умову до фундаментальної матриці"
   ]
  },
  {
   "cell_type": "code",
   "execution_count": 21,
   "metadata": {},
   "outputs": [
    {
     "name": "stdout",
     "output_type": "stream",
     "text": [
      "31.06 %\n"
     ]
    }
   ],
   "source": [
    "print(round(100*bestScore/len(pairs), 2),\"%\")"
   ]
  },
  {
   "cell_type": "markdown",
   "metadata": {},
   "source": [
    "## Епіполярна точка у 3-х координатах"
   ]
  },
  {
   "cell_type": "code",
   "execution_count": 22,
   "metadata": {},
   "outputs": [
    {
     "data": {
      "text/plain": [
       "array([[6.42362958e+01],\n",
       "       [2.44827378e+12],\n",
       "       [1.00000000e+00]])"
      ]
     },
     "execution_count": 22,
     "metadata": {},
     "output_type": "execute_result"
    }
   ],
   "source": [
    "epipole = null_space(bestF, 1e-3)\n",
    "epipole = epipole/epipole[-1]\n",
    "epipole"
   ]
  },
  {
   "cell_type": "code",
   "execution_count": 23,
   "metadata": {},
   "outputs": [
    {
     "data": {
      "text/plain": [
       "4.6356479230574774e-17"
      ]
     },
     "execution_count": 23,
     "metadata": {},
     "output_type": "execute_result"
    }
   ],
   "source": [
    "np.linalg.det(bestF)"
   ]
  },
  {
   "cell_type": "code",
   "execution_count": 24,
   "metadata": {},
   "outputs": [],
   "source": [
    "epipole_strich = [epipole[0,0], epipole[1,0]]"
   ]
  },
  {
   "cell_type": "markdown",
   "metadata": {},
   "source": [
    "## Епіполярна точка"
   ]
  },
  {
   "cell_type": "code",
   "execution_count": 25,
   "metadata": {},
   "outputs": [
    {
     "name": "stdout",
     "output_type": "stream",
     "text": [
      "X: 64.23629581312264\n",
      "Y: 2448273784925.521\n"
     ]
    }
   ],
   "source": [
    "print(\"X:\", epipole_strich[0])\n",
    "print(\"Y:\", epipole_strich[1])"
   ]
  },
  {
   "cell_type": "markdown",
   "metadata": {},
   "source": [
    "## Ліве зображення"
   ]
  },
  {
   "cell_type": "code",
   "execution_count": 26,
   "metadata": {},
   "outputs": [],
   "source": [
    "from PIL import ImageDraw"
   ]
  },
  {
   "cell_type": "code",
   "execution_count": 27,
   "metadata": {},
   "outputs": [
    {
     "ename": "KeyboardInterrupt",
     "evalue": "",
     "output_type": "error",
     "traceback": [
      "\u001b[0;31m---------------------------------------------------------------------------\u001b[0m",
      "\u001b[0;31mKeyboardInterrupt\u001b[0m                         Traceback (most recent call last)",
      "\u001b[0;32m<ipython-input-27-557dd54a5197>\u001b[0m in \u001b[0;36m<module>\u001b[0;34m()\u001b[0m\n\u001b[1;32m      2\u001b[0m \u001b[0mdraw\u001b[0m \u001b[0;34m=\u001b[0m \u001b[0mImageDraw\u001b[0m\u001b[0;34m.\u001b[0m\u001b[0mDraw\u001b[0m\u001b[0;34m(\u001b[0m\u001b[0mimage2show\u001b[0m\u001b[0;34m)\u001b[0m\u001b[0;34m\u001b[0m\u001b[0;34m\u001b[0m\u001b[0m\n\u001b[1;32m      3\u001b[0m \u001b[0;32mfor\u001b[0m \u001b[0mi\u001b[0m \u001b[0;32min\u001b[0m \u001b[0mrange\u001b[0m\u001b[0;34m(\u001b[0m\u001b[0;36m11\u001b[0m\u001b[0;34m)\u001b[0m\u001b[0;34m:\u001b[0m\u001b[0;34m\u001b[0m\u001b[0;34m\u001b[0m\u001b[0m\n\u001b[0;32m----> 4\u001b[0;31m     \u001b[0mdraw\u001b[0m\u001b[0;34m.\u001b[0m\u001b[0mline\u001b[0m\u001b[0;34m(\u001b[0m\u001b[0;34m(\u001b[0m\u001b[0;36m0\u001b[0m\u001b[0;34m,\u001b[0m \u001b[0mi\u001b[0m\u001b[0;34m*\u001b[0m\u001b[0;36m30\u001b[0m\u001b[0;34m,\u001b[0m \u001b[0mepipole_strich\u001b[0m\u001b[0;34m[\u001b[0m\u001b[0;36m0\u001b[0m\u001b[0;34m]\u001b[0m\u001b[0;34m,\u001b[0m \u001b[0mepipole_strich\u001b[0m\u001b[0;34m[\u001b[0m\u001b[0;36m1\u001b[0m\u001b[0;34m]\u001b[0m\u001b[0;34m)\u001b[0m\u001b[0;34m,\u001b[0m \u001b[0mfill\u001b[0m\u001b[0;34m=\u001b[0m\u001b[0;36m128\u001b[0m\u001b[0;34m)\u001b[0m\u001b[0;34m\u001b[0m\u001b[0;34m\u001b[0m\u001b[0m\n\u001b[0m\u001b[1;32m      5\u001b[0m \u001b[0mimage2show\u001b[0m\u001b[0;34m\u001b[0m\u001b[0;34m\u001b[0m\u001b[0m\n",
      "\u001b[0;32m/home/anton/.local/lib/python3.6/site-packages/PIL/ImageDraw.py\u001b[0m in \u001b[0;36mline\u001b[0;34m(self, xy, fill, width, joint)\u001b[0m\n\u001b[1;32m    155\u001b[0m         \u001b[0mink\u001b[0m \u001b[0;34m=\u001b[0m \u001b[0mself\u001b[0m\u001b[0;34m.\u001b[0m\u001b[0m_getink\u001b[0m\u001b[0;34m(\u001b[0m\u001b[0mfill\u001b[0m\u001b[0;34m)\u001b[0m\u001b[0;34m[\u001b[0m\u001b[0;36m0\u001b[0m\u001b[0;34m]\u001b[0m\u001b[0;34m\u001b[0m\u001b[0;34m\u001b[0m\u001b[0m\n\u001b[1;32m    156\u001b[0m         \u001b[0;32mif\u001b[0m \u001b[0mink\u001b[0m \u001b[0;32mis\u001b[0m \u001b[0;32mnot\u001b[0m \u001b[0;32mNone\u001b[0m\u001b[0;34m:\u001b[0m\u001b[0;34m\u001b[0m\u001b[0;34m\u001b[0m\u001b[0m\n\u001b[0;32m--> 157\u001b[0;31m             \u001b[0mself\u001b[0m\u001b[0;34m.\u001b[0m\u001b[0mdraw\u001b[0m\u001b[0;34m.\u001b[0m\u001b[0mdraw_lines\u001b[0m\u001b[0;34m(\u001b[0m\u001b[0mxy\u001b[0m\u001b[0;34m,\u001b[0m \u001b[0mink\u001b[0m\u001b[0;34m,\u001b[0m \u001b[0mwidth\u001b[0m\u001b[0;34m)\u001b[0m\u001b[0;34m\u001b[0m\u001b[0;34m\u001b[0m\u001b[0m\n\u001b[0m\u001b[1;32m    158\u001b[0m             \u001b[0;32mif\u001b[0m \u001b[0mjoint\u001b[0m \u001b[0;34m==\u001b[0m \u001b[0;34m\"curve\"\u001b[0m \u001b[0;32mand\u001b[0m \u001b[0mwidth\u001b[0m \u001b[0;34m>\u001b[0m \u001b[0;36m4\u001b[0m\u001b[0;34m:\u001b[0m\u001b[0;34m\u001b[0m\u001b[0;34m\u001b[0m\u001b[0m\n\u001b[1;32m    159\u001b[0m                 \u001b[0;32mfor\u001b[0m \u001b[0mi\u001b[0m \u001b[0;32min\u001b[0m \u001b[0mrange\u001b[0m\u001b[0;34m(\u001b[0m\u001b[0;36m1\u001b[0m\u001b[0;34m,\u001b[0m \u001b[0mlen\u001b[0m\u001b[0;34m(\u001b[0m\u001b[0mxy\u001b[0m\u001b[0;34m)\u001b[0m \u001b[0;34m-\u001b[0m \u001b[0;36m1\u001b[0m\u001b[0;34m)\u001b[0m\u001b[0;34m:\u001b[0m\u001b[0;34m\u001b[0m\u001b[0;34m\u001b[0m\u001b[0m\n",
      "\u001b[0;31mKeyboardInterrupt\u001b[0m: "
     ]
    }
   ],
   "source": [
    "image2show = Image.open(\"i1.jpg\").resize((400,300), Image.BICUBIC).convert(\"RGB\")\n",
    "draw = ImageDraw.Draw(image2show)\n",
    "for i in range(11):\n",
    "    draw.line((0, i*30, epipole_strich[0], epipole_strich[1]), fill=128)\n",
    "image2show"
   ]
  },
  {
   "cell_type": "markdown",
   "metadata": {},
   "source": [
    "## Праве зображення"
   ]
  },
  {
   "cell_type": "code",
   "execution_count": null,
   "metadata": {},
   "outputs": [],
   "source": [
    "Image.open(\"i2.jpg\").resize((400,300), Image.BICUBIC).convert(\"RGB\")"
   ]
  },
  {
   "cell_type": "code",
   "execution_count": null,
   "metadata": {},
   "outputs": [],
   "source": []
  },
  {
   "cell_type": "code",
   "execution_count": null,
   "metadata": {},
   "outputs": [],
   "source": []
  }
 ],
 "metadata": {
  "kernelspec": {
   "display_name": "Python 3",
   "language": "python",
   "name": "python3"
  },
  "language_info": {
   "codemirror_mode": {
    "name": "ipython",
    "version": 3
   },
   "file_extension": ".py",
   "mimetype": "text/x-python",
   "name": "python",
   "nbconvert_exporter": "python",
   "pygments_lexer": "ipython3",
   "version": "3.6.9"
  }
 },
 "nbformat": 4,
 "nbformat_minor": 2
}

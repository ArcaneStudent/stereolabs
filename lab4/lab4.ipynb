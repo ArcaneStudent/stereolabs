{
 "cells": [
  {
   "cell_type": "code",
   "execution_count": 1,
   "metadata": {},
   "outputs": [],
   "source": [
    "import numpy as np\n",
    "import matplotlib.pyplot as plt\n",
    "from PIL import Image\n",
    "from datetime import timedelta\n",
    "from timeit import default_timer as timer\n",
    "from math import sqrt\n",
    "\n",
    "from random import choices\n",
    "from scipy.linalg import null_space\n",
    "from scipy.optimize import minimize\n",
    "\n",
    "from PIL import ImageDraw"
   ]
  },
  {
   "cell_type": "code",
   "execution_count": 2,
   "metadata": {},
   "outputs": [],
   "source": [
    "img_l = np.asanyarray(Image.open(\"../myL.jpg\").convert(\"RGB\")).astype(np.int)\n",
    "img_r = np.asanyarray(Image.open(\"../myL.jpg\").convert(\"RGB\")).astype(np.int)\n",
    "img_l = img_l[::10,::10]\n",
    "img_r = img_r[::10,::10]\n",
    "\n",
    "img_shift = np.load(\"../lab1/img_shift.npy\")\n",
    "\n",
    "bestF = np.load(\"../lab2/bestF.npy\")"
   ]
  },
  {
   "cell_type": "code",
   "execution_count": 3,
   "metadata": {},
   "outputs": [
    {
     "data": {
      "text/plain": [
       "(195, 260, 3)"
      ]
     },
     "execution_count": 3,
     "metadata": {},
     "output_type": "execute_result"
    }
   ],
   "source": [
    "img_l.shape"
   ]
  },
  {
   "cell_type": "code",
   "execution_count": 4,
   "metadata": {},
   "outputs": [],
   "source": [
    "scale = 10\n",
    "pixel_size = 1.12e-3\n",
    "pixel_size *= scale\n",
    "focal = 3\n",
    "width = img_r.shape[1]\n",
    "height = img_r.shape[0]"
   ]
  },
  {
   "cell_type": "code",
   "execution_count": 5,
   "metadata": {},
   "outputs": [
    {
     "data": {
      "text/plain": [
       "array([[267.85714286,   0.        , 130.        ],\n",
       "       [  0.        , 267.85714286,  97.5       ],\n",
       "       [  0.        ,   0.        ,   1.        ]])"
      ]
     },
     "execution_count": 5,
     "metadata": {},
     "output_type": "execute_result"
    }
   ],
   "source": [
    "K = np.array([[focal/pixel_size, 0, width/2],\n",
    "              [0, focal/pixel_size, height/2],\n",
    "              [0, 0, 1]])\n",
    "K"
   ]
  },
  {
   "cell_type": "code",
   "execution_count": 6,
   "metadata": {},
   "outputs": [
    {
     "data": {
      "text/plain": [
       "array([[ 8.55854749e-15,  6.91289031e-13, -3.02955607e-01],\n",
       "       [-6.45401668e-13,  4.18780136e-14, -6.44751676e-01],\n",
       "       [ 3.02955607e-01,  6.52519769e-01,  2.36150012e+00]])"
      ]
     },
     "execution_count": 6,
     "metadata": {},
     "output_type": "execute_result"
    }
   ],
   "source": [
    "bestF"
   ]
  },
  {
   "cell_type": "code",
   "execution_count": 7,
   "metadata": {},
   "outputs": [
    {
     "data": {
      "text/plain": [
       "array([[   0.  ,    0.  ,  -81.15],\n",
       "       [  -0.  ,    0.  , -172.7 ],\n",
       "       [  81.15,  174.78,    3.12]])"
      ]
     },
     "execution_count": 7,
     "metadata": {},
     "output_type": "execute_result"
    }
   ],
   "source": [
    "E = np.dot(K.T, np.dot(bestF, K))\n",
    "E_bak = E.copy()\n",
    "#E = E/1000\n",
    "np.round(E,2)"
   ]
  },
  {
   "cell_type": "code",
   "execution_count": 8,
   "metadata": {},
   "outputs": [
    {
     "name": "stdout",
     "output_type": "stream",
     "text": [
      "193.5875 189.9431 0.0\n",
      "191.7653 191.7653 0.0\n"
     ]
    }
   ],
   "source": [
    "U, D, T = np.linalg.svd(E)\n",
    "print(*map(lambda x: round(x,4), D))\n",
    "D[:2] = D[:2].mean()\n",
    "E = np.linalg.multi_dot([U, np.diag(D), T])\n",
    "print(*map(lambda x: round(x,4), D))"
   ]
  },
  {
   "cell_type": "code",
   "execution_count": 9,
   "metadata": {},
   "outputs": [
    {
     "data": {
      "text/plain": [
       "array([[ 9.09494702e-11,  9.24046617e-10,  0.00000000e+00],\n",
       "       [ 9.24046617e-10,  1.62981451e-09,  0.00000000e+00],\n",
       "       [ 9.31322575e-10,  1.86264515e-09, -2.05182005e-09]])"
      ]
     },
     "execution_count": 9,
     "metadata": {},
     "output_type": "execute_result"
    }
   ],
   "source": [
    "2*np.linalg.multi_dot([E, E.T, E]) - E*np.trace(np.dot(E, E.T))"
   ]
  },
  {
   "cell_type": "code",
   "execution_count": 10,
   "metadata": {},
   "outputs": [
    {
     "data": {
      "text/plain": [
       "array([[ 0.,  0.,  0.],\n",
       "       [ 0.,  0.,  0.],\n",
       "       [ 0.,  0., -0.]])"
      ]
     },
     "execution_count": 10,
     "metadata": {},
     "output_type": "execute_result"
    }
   ],
   "source": [
    "np.round(2*np.linalg.multi_dot([E, E.T, E]) - E*np.trace(np.dot(E, E.T)),2)"
   ]
  },
  {
   "cell_type": "markdown",
   "metadata": {},
   "source": [
    "## 2"
   ]
  },
  {
   "cell_type": "code",
   "execution_count": 11,
   "metadata": {},
   "outputs": [],
   "source": [
    "U, S, V = np.linalg.svd(E)"
   ]
  },
  {
   "cell_type": "code",
   "execution_count": 12,
   "metadata": {},
   "outputs": [],
   "source": [
    "W = np.dot(U, np.array([[0,1,0],\n",
    "                        [-1,0,0],\n",
    "                        [0,0,1]]))"
   ]
  },
  {
   "cell_type": "code",
   "execution_count": 13,
   "metadata": {},
   "outputs": [],
   "source": [
    "R = np.linalg.det(W)*np.linalg.det(V)*np.dot(W, V)"
   ]
  },
  {
   "cell_type": "code",
   "execution_count": 14,
   "metadata": {},
   "outputs": [
    {
     "data": {
      "text/plain": [
       "array([[ 1.   ,  0.005,  0.003],\n",
       "       [-0.005,  1.   ,  0.007],\n",
       "       [-0.003, -0.007,  1.   ]])"
      ]
     },
     "execution_count": 14,
     "metadata": {},
     "output_type": "execute_result"
    }
   ],
   "source": [
    "np.round(R,3)"
   ]
  },
  {
   "cell_type": "code",
   "execution_count": 15,
   "metadata": {},
   "outputs": [
    {
     "data": {
      "text/plain": [
       "array([ 9.07008968e-01, -4.21111306e-01, -2.50520167e-10])"
      ]
     },
     "execution_count": 15,
     "metadata": {},
     "output_type": "execute_result"
    }
   ],
   "source": [
    "v3 = V.T[:,2]\n",
    "v3"
   ]
  },
  {
   "cell_type": "code",
   "execution_count": 16,
   "metadata": {},
   "outputs": [
    {
     "data": {
      "text/plain": [
       "array([173.933, -80.755,  -0.   ])"
      ]
     },
     "execution_count": 16,
     "metadata": {},
     "output_type": "execute_result"
    }
   ],
   "source": [
    "c = v3*S[0]*np.linalg.det(W)\n",
    "np.round(c,3)"
   ]
  },
  {
   "cell_type": "code",
   "execution_count": 17,
   "metadata": {},
   "outputs": [],
   "source": [
    "c_vec = np.array([[0,-c[2],c[1]],\n",
    "                  [c[2],0,-c[0]],\n",
    "                  [-c[1],c[0],0]])"
   ]
  },
  {
   "cell_type": "code",
   "execution_count": 18,
   "metadata": {},
   "outputs": [
    {
     "data": {
      "text/plain": [
       "array([[-0., -0.,  0.],\n",
       "       [-0., -0.,  0.],\n",
       "       [-0., -0., -0.]])"
      ]
     },
     "execution_count": 18,
     "metadata": {},
     "output_type": "execute_result"
    }
   ],
   "source": [
    "np.round(E - np.dot(R,c_vec), 10)"
   ]
  },
  {
   "cell_type": "code",
   "execution_count": 19,
   "metadata": {},
   "outputs": [
    {
     "data": {
      "text/plain": [
       "1.0000000000000042"
      ]
     },
     "execution_count": 19,
     "metadata": {},
     "output_type": "execute_result"
    }
   ],
   "source": [
    "np.linalg.det(R)"
   ]
  },
  {
   "cell_type": "code",
   "execution_count": 20,
   "metadata": {},
   "outputs": [
    {
     "data": {
      "text/plain": [
       "-1.1874480816995176e-19"
      ]
     },
     "execution_count": 20,
     "metadata": {},
     "output_type": "execute_result"
    }
   ],
   "source": [
    "np.linalg.det(c_vec)"
   ]
  },
  {
   "cell_type": "code",
   "execution_count": null,
   "metadata": {},
   "outputs": [],
   "source": []
  }
 ],
 "metadata": {
  "kernelspec": {
   "display_name": "Python 3",
   "language": "python",
   "name": "python3"
  },
  "language_info": {
   "codemirror_mode": {
    "name": "ipython",
    "version": 3
   },
   "file_extension": ".py",
   "mimetype": "text/x-python",
   "name": "python",
   "nbconvert_exporter": "python",
   "pygments_lexer": "ipython3",
   "version": "3.6.9"
  }
 },
 "nbformat": 4,
 "nbformat_minor": 2
}

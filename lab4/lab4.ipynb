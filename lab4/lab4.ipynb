{
 "cells": [
  {
   "cell_type": "code",
   "execution_count": 1,
   "metadata": {},
   "outputs": [],
   "source": [
    "import numpy as np\n",
    "import matplotlib.pyplot as plt\n",
    "from PIL import Image\n",
    "from datetime import timedelta\n",
    "from timeit import default_timer as timer\n",
    "from math import sqrt\n",
    "\n",
    "from random import choices\n",
    "from scipy.linalg import null_space\n",
    "from scipy.optimize import minimize\n",
    "\n",
    "from PIL import ImageDraw"
   ]
  },
  {
   "cell_type": "code",
   "execution_count": 2,
   "metadata": {},
   "outputs": [],
   "source": [
    "img_l = np.asanyarray(Image.open(\"../myL.jpg\").convert(\"RGB\")).astype(np.int)\n",
    "img_r = np.asanyarray(Image.open(\"../myL.jpg\").convert(\"RGB\")).astype(np.int)\n",
    "img_l = img_l[::10,::10]\n",
    "img_r = img_r[::10,::10]\n",
    "\n",
    "img_shift = np.load(\"../lab1/img_shift.npy\")\n",
    "\n",
    "bestF = np.load(\"../lab2/bestF.npy\")"
   ]
  },
  {
   "cell_type": "code",
   "execution_count": 3,
   "metadata": {},
   "outputs": [
    {
     "data": {
      "text/plain": [
       "(195, 260, 3)"
      ]
     },
     "execution_count": 3,
     "metadata": {},
     "output_type": "execute_result"
    }
   ],
   "source": [
    "img_l.shape"
   ]
  },
  {
   "cell_type": "code",
   "execution_count": 4,
   "metadata": {},
   "outputs": [],
   "source": [
    "scale = 10\n",
    "pixel_size = 1.12e-3\n",
    "pixel_size *= scale\n",
    "focal = 3\n",
    "width = img_r.shape[1]\n",
    "height = img_r.shape[0]"
   ]
  },
  {
   "cell_type": "code",
   "execution_count": 5,
   "metadata": {},
   "outputs": [
    {
     "data": {
      "text/plain": [
       "array([[267.85714286,   0.        , 130.        ],\n",
       "       [  0.        , 267.85714286,  97.5       ],\n",
       "       [  0.        ,   0.        ,   1.        ]])"
      ]
     },
     "execution_count": 5,
     "metadata": {},
     "output_type": "execute_result"
    }
   ],
   "source": [
    "K = np.array([[focal/pixel_size, 0, width/2],\n",
    "              [0, focal/pixel_size, height/2],\n",
    "              [0, 0, 1]])\n",
    "K"
   ]
  },
  {
   "cell_type": "code",
   "execution_count": 6,
   "metadata": {},
   "outputs": [
    {
     "data": {
      "text/plain": [
       "array([[ 8.55854749e-15,  6.91289031e-13, -3.02955607e-01],\n",
       "       [-6.45401668e-13,  4.18780136e-14, -6.44751676e-01],\n",
       "       [ 3.02955607e-01,  6.52519769e-01,  2.36150012e+00]])"
      ]
     },
     "execution_count": 6,
     "metadata": {},
     "output_type": "execute_result"
    }
   ],
   "source": [
    "bestF"
   ]
  },
  {
   "cell_type": "code",
   "execution_count": 7,
   "metadata": {},
   "outputs": [
    {
     "data": {
      "text/plain": [
       "array([[ 6.14053949e-10,  4.95982245e-08, -8.11488233e+01],\n",
       "       [-4.63059232e-08,  3.00464065e-09, -1.72701342e+02],\n",
       "       [ 8.11488233e+01,  1.74782081e+02,  3.11888914e+00]])"
      ]
     },
     "execution_count": 7,
     "metadata": {},
     "output_type": "execute_result"
    }
   ],
   "source": [
    "E = np.dot(K.T, np.dot(bestF, K))\n",
    "E"
   ]
  },
  {
   "cell_type": "code",
   "execution_count": 9,
   "metadata": {},
   "outputs": [
    {
     "name": "stdout",
     "output_type": "stream",
     "text": [
      "193.59 189.94 0.0\n"
     ]
    }
   ],
   "source": [
    "U, D, T = np.linalg.svd(E)\n",
    "print(*map(lambda x: round(x,2), D))"
   ]
  },
  {
   "cell_type": "code",
   "execution_count": 37,
   "metadata": {},
   "outputs": [
    {
     "data": {
      "text/plain": [
       "array([[-4.84696391e+08,  2.25021468e+08, -4.53419345e+04],\n",
       "       [ 2.25021468e+08, -1.11537528e+08, -9.65282825e+04],\n",
       "       [-4.53419345e+04, -9.65282825e+04,  5.80454871e+06]])"
      ]
     },
     "execution_count": 37,
     "metadata": {},
     "output_type": "execute_result"
    }
   ],
   "source": [
    "2*np.dot(E, E.T) - np.eye(3)*np.trace(np.dot(E, E.T))"
   ]
  },
  {
   "cell_type": "markdown",
   "metadata": {},
   "source": [
    "Game Over"
   ]
  }
 ],
 "metadata": {
  "kernelspec": {
   "display_name": "Python 3",
   "language": "python",
   "name": "python3"
  },
  "language_info": {
   "codemirror_mode": {
    "name": "ipython",
    "version": 3
   },
   "file_extension": ".py",
   "mimetype": "text/x-python",
   "name": "python",
   "nbconvert_exporter": "python",
   "pygments_lexer": "ipython3",
   "version": "3.6.9"
  }
 },
 "nbformat": 4,
 "nbformat_minor": 2
}

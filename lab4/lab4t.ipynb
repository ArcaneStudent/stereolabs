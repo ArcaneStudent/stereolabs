{
 "cells": [
  {
   "cell_type": "markdown",
   "metadata": {},
   "source": [
    "# 1"
   ]
  },
  {
   "cell_type": "markdown",
   "metadata": {},
   "source": [
    "### M1"
   ]
  },
  {
   "cell_type": "markdown",
   "metadata": {},
   "source": [
    "$F = K_2^{-T}R_2[\\vec{c_2}-\\vec{c_1}]_x R_1^{-1} K_1^{-1} $\n",
    "\n",
    "$\\vec{e_1} = R_1 K_1 (\\vec{c_2}-\\vec{c_1})$\n",
    "\n",
    "$\\vec{c_2}-\\vec{c_1} = R_1^{-1} K_1^{-1} \\vec{e_1}$"
   ]
  },
  {
   "cell_type": "markdown",
   "metadata": {},
   "source": [
    "тут ще десь константа є, але її можна відкинути з причини того що F можна множити на скаляр"
   ]
  },
  {
   "cell_type": "markdown",
   "metadata": {},
   "source": [
    "$F = K_2^{-T}R_2[R_1^{-1} K_1^{-1} \\vec{e_1}]_x R_1^{-1} K_1^{-1} $\n",
    "\n",
    "$F = K_2^{-T}R_2 \\frac{(R_1^{-1} K_1^{-1})^{-T}}{|(R_1^{-1} K_1^{-1})^{-T}|} [ \\vec{e_1}]_x $\n",
    "\n",
    "$M_1 = K_2^{-T}R_2 \\frac{(R_1^{-1} K_1^{-1})^{-T}}{|(K_1^{-1})^{-T}|}$"
   ]
  },
  {
   "cell_type": "markdown",
   "metadata": {},
   "source": [
    "### M2"
   ]
  },
  {
   "cell_type": "markdown",
   "metadata": {},
   "source": [
    "$F = K_2^{-T}R_2[\\vec{c_2}-\\vec{c_1}]_x R_1^{-1} K_1^{-1} $\n",
    "\n",
    "$\\vec{e_2} = R_2 K_2 (\\vec{c_1}-\\vec{c_2})$\n",
    "\n",
    "$\\vec{c_2}-\\vec{c_1} = -R_2^{-1} K_2^{-1} \\vec{e_1}$\n",
    "\n",
    "$F = -K_2^{-T}R_2[R_2^{-1} K_2^{-1} \\vec{e_2}]_x R_1^{-1} K_1^{-1} $\n",
    "\n",
    "$F = -K_2^{-T}R_2[R_2^{-1} K_2^{-1} \\vec{e_2}]_x R_2^{-1} K_2^{-1} K_2 R_2 R_1^{-1} K_1^{-1} $\n",
    "\n",
    "$F = -K_2^{-T}R_2 \\frac{(R_2^{-1} K_2^{-1})^{-T}}{(|R_2^{-1} K_2^{-1}|)^{-T}}[\\vec{e_2}]_x R_2^{-1} K_2^{-1} K_2 R_2 R_1^{-1} K_1^{-1} $\n",
    "\n",
    "$F = -\\frac{1}{(|R_2^{-1} K_2^{-1}|)^{-T}}[\\vec{e_2}]_x K_2 R_2 R_1^{-1} K_1^{-1} $\n",
    "\n",
    "$F = -\\frac{1}{(|K_2^{-1}|)^{-T}}[\\vec{e_2}]_x K_2 R_2 R_1^{-1} K_1^{-1} $\n",
    "\n",
    "$F = -[\\vec{e_2}]_x \\frac{K_2 R_2 R_1^{-1} K_1^{-1}}{(|K_2^{-1}|)^{-T}} $\n",
    "\n",
    "$M_2 =  -\\frac{K_2 R_2 R_1^{-1} K_1^{-1}}{(|K_2^{-1}|)^{-T}}$"
   ]
  },
  {
   "cell_type": "markdown",
   "metadata": {},
   "source": [
    "# 2"
   ]
  },
  {
   "cell_type": "code",
   "execution_count": 54,
   "metadata": {},
   "outputs": [],
   "source": [
    "from sympy import *"
   ]
  },
  {
   "cell_type": "code",
   "execution_count": 55,
   "metadata": {},
   "outputs": [],
   "source": [
    "a1,a2,a3,a4,a5,a6,a7,a8,a9 = symbols(\"a1,a2,a3,a4,a5,a6,a7,a8,a9\".replace(\",\",\" \"))"
   ]
  },
  {
   "cell_type": "code",
   "execution_count": 65,
   "metadata": {},
   "outputs": [
    {
     "data": {
      "text/latex": [
       "$\\displaystyle \\left[\\begin{matrix}a_{1} & a_{2} & a_{3}\\\\a_{4} & a_{5} & a_{6}\\\\a_{7} & a_{8} & a_{9}\\end{matrix}\\right]$"
      ],
      "text/plain": [
       "Matrix([\n",
       "[a1, a2, a3],\n",
       "[a4, a5, a6],\n",
       "[a7, a8, a9]])"
      ]
     },
     "execution_count": 65,
     "metadata": {},
     "output_type": "execute_result"
    }
   ],
   "source": [
    "R = Matrix([[a1,a2,a3],[a4,a5,a6],[a7,a8,a9]])\n",
    "R"
   ]
  },
  {
   "cell_type": "code",
   "execution_count": 58,
   "metadata": {},
   "outputs": [],
   "source": [
    "c1,c2,c3 = symbols(\"c1 c2 c3\")"
   ]
  },
  {
   "cell_type": "code",
   "execution_count": 59,
   "metadata": {},
   "outputs": [
    {
     "data": {
      "text/latex": [
       "$\\displaystyle \\left[\\begin{matrix}a_{1} & a_{2} & a_{3} & c_{1}\\\\a_{4} & a_{5} & a_{6} & c_{2}\\\\a_{7} & a_{8} & a_{9} & c_{3}\\\\0 & 0 & 0 & 1\\end{matrix}\\right]$"
      ],
      "text/plain": [
       "Matrix([\n",
       "[a1, a2, a3, c1],\n",
       "[a4, a5, a6, c2],\n",
       "[a7, a8, a9, c3],\n",
       "[ 0,  0,  0,  1]])"
      ]
     },
     "execution_count": 59,
     "metadata": {},
     "output_type": "execute_result"
    }
   ],
   "source": [
    "z = Matrix([0,0,0])\n",
    "c = Matrix([c1,c2,c3])\n",
    "\n",
    "H = Matrix([[R, c],[z.T,Matrix([1])]])\n",
    "\n",
    "H"
   ]
  },
  {
   "cell_type": "code",
   "execution_count": 60,
   "metadata": {},
   "outputs": [
    {
     "data": {
      "text/latex": [
       "$\\displaystyle \\left[\\begin{matrix}a_{5} a_{9} - a_{6} a_{8} & - a_{2} a_{9} + a_{3} a_{8} & a_{2} a_{6} - a_{3} a_{5} & - a_{2} a_{6} c_{3} + a_{2} a_{9} c_{2} + a_{3} a_{5} c_{3} - a_{3} a_{8} c_{2} - a_{5} a_{9} c_{1} + a_{6} a_{8} c_{1}\\\\- a_{4} a_{9} + a_{6} a_{7} & a_{1} a_{9} - a_{3} a_{7} & - a_{1} a_{6} + a_{3} a_{4} & a_{1} a_{6} c_{3} - a_{1} a_{9} c_{2} - a_{3} a_{4} c_{3} + a_{3} a_{7} c_{2} + a_{4} a_{9} c_{1} - a_{6} a_{7} c_{1}\\\\a_{4} a_{8} - a_{5} a_{7} & - a_{1} a_{8} + a_{2} a_{7} & a_{1} a_{5} - a_{2} a_{4} & - a_{1} a_{5} c_{3} + a_{1} a_{8} c_{2} + a_{2} a_{4} c_{3} - a_{2} a_{7} c_{2} - a_{4} a_{8} c_{1} + a_{5} a_{7} c_{1}\\\\0 & 0 & 0 & 1\\end{matrix}\\right]$"
      ],
      "text/plain": [
       "Matrix([\n",
       "[ a5*a9 - a6*a8, -a2*a9 + a3*a8,  a2*a6 - a3*a5, -a2*a6*c3 + a2*a9*c2 + a3*a5*c3 - a3*a8*c2 - a5*a9*c1 + a6*a8*c1],\n",
       "[-a4*a9 + a6*a7,  a1*a9 - a3*a7, -a1*a6 + a3*a4,  a1*a6*c3 - a1*a9*c2 - a3*a4*c3 + a3*a7*c2 + a4*a9*c1 - a6*a7*c1],\n",
       "[ a4*a8 - a5*a7, -a1*a8 + a2*a7,  a1*a5 - a2*a4, -a1*a5*c3 + a1*a8*c2 + a2*a4*c3 - a2*a7*c2 - a4*a8*c1 + a5*a7*c1],\n",
       "[             0,              0,              0,                                                                1]])"
      ]
     },
     "execution_count": 60,
     "metadata": {},
     "output_type": "execute_result"
    }
   ],
   "source": [
    "Hi2 = simplify(H.inv()).subs(R.det(), 1)\n",
    "Hi2"
   ]
  },
  {
   "cell_type": "code",
   "execution_count": 61,
   "metadata": {},
   "outputs": [
    {
     "data": {
      "text/latex": [
       "$\\displaystyle \\left[\\begin{matrix}a_{5} a_{9} - a_{6} a_{8} & - a_{2} a_{9} + a_{3} a_{8} & a_{2} a_{6} - a_{3} a_{5}\\\\- a_{4} a_{9} + a_{6} a_{7} & a_{1} a_{9} - a_{3} a_{7} & - a_{1} a_{6} + a_{3} a_{4}\\\\a_{4} a_{8} - a_{5} a_{7} & - a_{1} a_{8} + a_{2} a_{7} & a_{1} a_{5} - a_{2} a_{4}\\end{matrix}\\right]$"
      ],
      "text/plain": [
       "Matrix([\n",
       "[ a5*a9 - a6*a8, -a2*a9 + a3*a8,  a2*a6 - a3*a5],\n",
       "[-a4*a9 + a6*a7,  a1*a9 - a3*a7, -a1*a6 + a3*a4],\n",
       "[ a4*a8 - a5*a7, -a1*a8 + a2*a7,  a1*a5 - a2*a4]])"
      ]
     },
     "execution_count": 61,
     "metadata": {},
     "output_type": "execute_result"
    }
   ],
   "source": [
    "R.inv().subs(R.det(), 1)"
   ]
  },
  {
   "cell_type": "code",
   "execution_count": 62,
   "metadata": {},
   "outputs": [
    {
     "data": {
      "text/latex": [
       "$\\displaystyle \\left[\\begin{matrix}0 & 0 & 0\\\\0 & 0 & 0\\\\0 & 0 & 0\\end{matrix}\\right]$"
      ],
      "text/plain": [
       "Matrix([\n",
       "[0, 0, 0],\n",
       "[0, 0, 0],\n",
       "[0, 0, 0]])"
      ]
     },
     "execution_count": 62,
     "metadata": {},
     "output_type": "execute_result"
    }
   ],
   "source": [
    "Hi2[:3,:3] - R.inv().subs(R.det(), 1)"
   ]
  },
  {
   "cell_type": "code",
   "execution_count": 63,
   "metadata": {
    "scrolled": true
   },
   "outputs": [
    {
     "data": {
      "text/latex": [
       "$\\displaystyle \\left[\\begin{matrix}c_{1} \\left(- a_{5} a_{9} + a_{6} a_{8}\\right) + c_{2} \\left(a_{2} a_{9} - a_{3} a_{8}\\right) + c_{3} \\left(- a_{2} a_{6} + a_{3} a_{5}\\right)\\\\c_{1} \\left(a_{4} a_{9} - a_{6} a_{7}\\right) + c_{2} \\left(- a_{1} a_{9} + a_{3} a_{7}\\right) + c_{3} \\left(a_{1} a_{6} - a_{3} a_{4}\\right)\\\\c_{1} \\left(- a_{4} a_{8} + a_{5} a_{7}\\right) + c_{2} \\left(a_{1} a_{8} - a_{2} a_{7}\\right) + c_{3} \\left(- a_{1} a_{5} + a_{2} a_{4}\\right)\\end{matrix}\\right]$"
      ],
      "text/plain": [
       "Matrix([\n",
       "[c1*(-a5*a9 + a6*a8) + c2*(a2*a9 - a3*a8) + c3*(-a2*a6 + a3*a5)],\n",
       "[ c1*(a4*a9 - a6*a7) + c2*(-a1*a9 + a3*a7) + c3*(a1*a6 - a3*a4)],\n",
       "[c1*(-a4*a8 + a5*a7) + c2*(a1*a8 - a2*a7) + c3*(-a1*a5 + a2*a4)]])"
      ]
     },
     "execution_count": 63,
     "metadata": {},
     "output_type": "execute_result"
    }
   ],
   "source": [
    "-(R.inv().subs(R.det(), 1)) * c"
   ]
  },
  {
   "cell_type": "code",
   "execution_count": 64,
   "metadata": {},
   "outputs": [
    {
     "data": {
      "text/latex": [
       "$\\displaystyle \\left[\\begin{matrix}0\\\\0\\\\0\\end{matrix}\\right]$"
      ],
      "text/plain": [
       "Matrix([\n",
       "[0],\n",
       "[0],\n",
       "[0]])"
      ]
     },
     "execution_count": 64,
     "metadata": {},
     "output_type": "execute_result"
    }
   ],
   "source": [
    "simplify(Hi2[:-1,-1] + (R.inv().subs(R.det(), 1)) * c)"
   ]
  },
  {
   "cell_type": "markdown",
   "metadata": {},
   "source": [
    "### Офіційна відповідь"
   ]
  },
  {
   "cell_type": "markdown",
   "metadata": {},
   "source": [
    "Для \n",
    "\n",
    "$H^{-1} =\n",
    "\\begin{bmatrix}\n",
    "R &  \\vec{c}\\\\ \n",
    "\\vec{0}^T & 1 \n",
    "\\end{bmatrix}\n",
    "$\n",
    "\n",
    "обернена матриця дорівнює\n",
    "\n",
    "\n",
    "$H^{-1} =\n",
    "\\begin{bmatrix}\n",
    "R^{-1} &  -R^{-1}\\vec{c}\\\\ \n",
    "\\vec{0}^T & 1 \n",
    "\\end{bmatrix}\n",
    "$"
   ]
  },
  {
   "cell_type": "code",
   "execution_count": null,
   "metadata": {},
   "outputs": [],
   "source": []
  }
 ],
 "metadata": {
  "kernelspec": {
   "display_name": "Python 3",
   "language": "python",
   "name": "python3"
  },
  "language_info": {
   "codemirror_mode": {
    "name": "ipython",
    "version": 3
   },
   "file_extension": ".py",
   "mimetype": "text/x-python",
   "name": "python",
   "nbconvert_exporter": "python",
   "pygments_lexer": "ipython3",
   "version": "3.6.9"
  }
 },
 "nbformat": 4,
 "nbformat_minor": 2
}

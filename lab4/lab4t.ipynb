{
 "cells": [
  {
   "cell_type": "markdown",
   "metadata": {},
   "source": [
    "# 1"
   ]
  },
  {
   "cell_type": "markdown",
   "metadata": {},
   "source": [
    "### M1"
   ]
  },
  {
   "cell_type": "markdown",
   "metadata": {},
   "source": [
    "$F = K_2^{-T}R_2[\\vec{c_2}-\\vec{c_1}]_x R_1^{-1} K_1^{-1} $\n",
    "\n",
    "$\\vec{e_1} = R_1 K_1 (\\vec{c_2}-\\vec{c_1})$\n",
    "\n",
    "$\\vec{c_2}-\\vec{c_1} = R_1^{-1} K_1^{-1} \\vec{e_1}$"
   ]
  },
  {
   "cell_type": "markdown",
   "metadata": {},
   "source": [
    "тут ще десь константа є, але її можна відкинути з причини того що F можна множити на скаляр"
   ]
  },
  {
   "cell_type": "markdown",
   "metadata": {},
   "source": [
    "$F = K_2^{-T}R_2[R_1^{-1} K_1^{-1} \\vec{e_1}]_x R_1^{-1} K_1^{-1} $\n",
    "\n",
    "$F = K_2^{-T}R_2 \\frac{(R_1^{-1} K_1^{-1})^{-T}}{|(R_1^{-1} K_1^{-1})^{-T}|} [ \\vec{e_1}]_x $\n",
    "\n",
    "$M_1 = K_2^{-T}R_2 \\frac{(R_1^{-1} K_1^{-1})^{-T}}{|(K_1^{-1})^{-T}|}$"
   ]
  },
  {
   "cell_type": "markdown",
   "metadata": {},
   "source": [
    "### M2"
   ]
  },
  {
   "cell_type": "markdown",
   "metadata": {},
   "source": [
    "$F = K_2^{-T}R_2[\\vec{c_2}-\\vec{c_1}]_x R_1^{-1} K_1^{-1} $\n",
    "\n",
    "$\\vec{e_2} = R_2 K_2 (\\vec{c_1}-\\vec{c_2})$\n",
    "\n",
    "$\\vec{c_2}-\\vec{c_1} = -R_2^{-1} K_2^{-1} \\vec{e_1}$\n",
    "\n",
    "$F = -K_2^{-T}R_2[R_2^{-1} K_2^{-1} \\vec{e_2}]_x R_1^{-1} K_1^{-1} $\n",
    "\n",
    "$F = -K_2^{-T}R_2[R_2^{-1} K_2^{-1} \\vec{e_2}]_x R_2^{-1} K_2^{-1} K_2 R_2 R_1^{-1} K_1^{-1} $\n",
    "\n",
    "$F = -K_2^{-T}R_2 \\frac{(R_2^{-1} K_2^{-1})^{-T}}{(|R_2^{-1} K_2^{-1}|)^{-T}}[\\vec{e_2}]_x R_2^{-1} K_2^{-1} K_2 R_2 R_1^{-1} K_1^{-1} $\n",
    "\n",
    "$F = -\\frac{1}{(|R_2^{-1} K_2^{-1}|)^{-T}}[\\vec{e_2}]_x K_2 R_2 R_1^{-1} K_1^{-1} $\n",
    "\n",
    "$F = -\\frac{1}{(|K_2^{-1}|)^{-T}}[\\vec{e_2}]_x K_2 R_2 R_1^{-1} K_1^{-1} $\n",
    "\n",
    "$F = -[\\vec{e_2}]_x \\frac{K_2 R_2 R_1^{-1} K_1^{-1}}{(|K_2^{-1}|)^{-T}} $\n",
    "\n",
    "$M_2 =  -\\frac{K_2 R_2 R_1^{-1} K_1^{-1}}{(|K_2^{-1}|)^{-T}}$"
   ]
  },
  {
   "cell_type": "markdown",
   "metadata": {},
   "source": [
    "# 2"
   ]
  },
  {
   "cell_type": "code",
   "execution_count": null,
   "metadata": {},
   "outputs": [],
   "source": []
  }
 ],
 "metadata": {
  "kernelspec": {
   "display_name": "Python 3",
   "language": "python",
   "name": "python3"
  },
  "language_info": {
   "codemirror_mode": {
    "name": "ipython",
    "version": 3
   },
   "file_extension": ".py",
   "mimetype": "text/x-python",
   "name": "python",
   "nbconvert_exporter": "python",
   "pygments_lexer": "ipython3",
   "version": "3.6.9"
  }
 },
 "nbformat": 4,
 "nbformat_minor": 2
}
